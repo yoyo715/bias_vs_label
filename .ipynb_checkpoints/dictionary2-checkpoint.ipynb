{
 "cells": [
  {
   "cell_type": "code",
   "execution_count": 1,
   "metadata": {},
   "outputs": [],
   "source": [
    "# use natural language toolkit\n",
    "import nltk\n",
    "from nltk.stem.lancaster import LancasterStemmer\n",
    "import os\n",
    "import json\n",
    "import datetime\n",
    "stemmer = LancasterStemmer()"
   ]
  },
  {
   "cell_type": "code",
   "execution_count": 121,
   "metadata": {},
   "outputs": [],
   "source": [
    "train = open('../data/query_gender.train', encoding='utf8').readlines() \n",
    "test = open('../data/query_gender.test', encoding='utf8').readlines() "
   ]
  },
  {
   "cell_type": "code",
   "execution_count": 126,
   "metadata": {},
   "outputs": [
    {
     "name": "stdout",
     "output_type": "stream",
     "text": [
      "39126 9782\n"
     ]
    }
   ],
   "source": [
    "print(len(train), len(test))\n",
    "#train[0]\n",
    "#del train[0]  #only on first run"
   ]
  },
  {
   "cell_type": "code",
   "execution_count": 127,
   "metadata": {},
   "outputs": [],
   "source": [
    "train.extend(test)\n",
    "dataset = train"
   ]
  },
  {
   "cell_type": "code",
   "execution_count": 128,
   "metadata": {},
   "outputs": [
    {
     "name": "stdout",
     "output_type": "stream",
     "text": [
      "48908\n"
     ]
    }
   ],
   "source": [
    "print(len(dataset))"
   ]
  },
  {
   "cell_type": "code",
   "execution_count": 132,
   "metadata": {},
   "outputs": [],
   "source": [
    "import random \n",
    "random.shuffle(dataset)"
   ]
  },
  {
   "cell_type": "code",
   "execution_count": 135,
   "metadata": {},
   "outputs": [
    {
     "name": "stdout",
     "output_type": "stream",
     "text": [
      "5\n",
      "5\n"
     ]
    }
   ],
   "source": [
    "words =  []\n",
    "labels = []\n",
    "documents = []\n",
    "whitelist = set('abcdefghijklmnopqrstuvwxyz ABCDEFGHIJKLMNOPQRSTUVWXYZ 0123456789 \\t \\n')\n",
    "\n",
    "# loop through each instance in training data, gets labels\n",
    "for x in dataset[0:5]:\n",
    "    i = 0\n",
    "    inst = []\n",
    "    label = x[0:10]\n",
    "    if label[0:9] != '__label__':\n",
    "        print(\"ERROR in label creation\")\n",
    "        break\n",
    "    else:\n",
    "        labels.append(label)\n",
    "        \n",
    "    sent = ''\n",
    "    word = ''\n",
    "    for w in x[10:]:\n",
    "        if w in whitelist:\n",
    "            if w == '\\t':\n",
    "                inst.append(sent)\n",
    "                sent = ''\n",
    "                word = ''\n",
    "                i += 1\n",
    "            elif w != ' ':\n",
    "                word = word + w\n",
    "            else:\n",
    "                if \"http\" not in word and word != \"RT\" and word != \"rt\":\n",
    "                    sent = sent + ' ' + word\n",
    "                    word = ''\n",
    "                else:\n",
    "                    word = ''\n",
    "            \n",
    "    documents.append(inst)\n",
    "            \n",
    "              \n",
    "print(len(labels))\n",
    "print(len(documents))\n"
   ]
  },
  {
   "cell_type": "code",
   "execution_count": null,
   "metadata": {},
   "outputs": [],
   "source": []
  }
 ],
 "metadata": {
  "kernelspec": {
   "display_name": "Python 3",
   "language": "python",
   "name": "python3"
  },
  "language_info": {
   "codemirror_mode": {
    "name": "ipython",
    "version": 3
   },
   "file_extension": ".py",
   "mimetype": "text/x-python",
   "name": "python",
   "nbconvert_exporter": "python",
   "pygments_lexer": "ipython3",
   "version": "3.6.5"
  }
 },
 "nbformat": 4,
 "nbformat_minor": 2
}
