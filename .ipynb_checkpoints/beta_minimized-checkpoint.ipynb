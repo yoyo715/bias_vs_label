{
 "cells": [
  {
   "cell_type": "code",
   "execution_count": 1,
   "metadata": {
    "collapsed": true
   },
   "outputs": [],
   "source": [
    "import numpy as np\n",
    "from scipy.optimize import minimize"
   ]
  },
  {
   "cell_type": "code",
   "execution_count": 80,
   "metadata": {
    "collapsed": true
   },
   "outputs": [],
   "source": [
    "def objective(beta):\n",
    "    K = np.random.rand(n_tr, n_tr)\n",
    "    k = np.random.rand(n_tr)\n",
    "    return 0.5*np.subtract(np.dot(np.dot(beta.T, K), beta), np.dot(k.T, beta))"
   ]
  },
  {
   "cell_type": "code",
   "execution_count": 83,
   "metadata": {
    "collapsed": true
   },
   "outputs": [],
   "source": [
    "def constraint1(beta):\n",
    "    return beta\n",
    "\n",
    "def constraint2(beta):\n",
    "    B = 5\n",
    "    return B - beta\n",
    "\n",
    "def constraint3(beta):\n",
    "    epsilon = 1e-7\n",
    "    n_tr = 5\n",
    "    return np.subtract(beta, n_tr*(1-epsilon))\n",
    "    #return beta - n_tr*(1-epsilon)\n",
    "\n",
    "def constraint4(beta):\n",
    "    epsilon = 1e-7\n",
    "    n_tr = 5\n",
    "    return np.subtract(n_tr*(epsilon - 1), beta)\n",
    "    #return n_tr*(epsilon - 1) - beta"
   ]
  },
  {
   "cell_type": "code",
   "execution_count": 70,
   "metadata": {},
   "outputs": [
    {
     "data": {
      "text/plain": [
       "0.8784181533025671"
      ]
     },
     "execution_count": 70,
     "metadata": {},
     "output_type": "execute_result"
    }
   ],
   "source": [
    "n_tr = 5\n",
    "\n",
    "beta0 = np.random.rand(n_tr)\n",
    "\n",
    "objective(beta0, K0, k0)"
   ]
  },
  {
   "cell_type": "code",
   "execution_count": 77,
   "metadata": {},
   "outputs": [],
   "source": [
    "b = (0.0, B)\n",
    "bounds = (b,b,b,b,b)\n",
    "\n",
    "\n",
    "con1 = {'type': 'ineq', 'fun': constraint1}\n",
    "con2 = {'type': 'ineq', 'fun': constraint2}\n",
    "con3 = {'type': 'ineq', 'fun': constraint3}\n",
    "con4 = {'type': 'ineq', 'fun': constraint4}\n",
    "\n",
    "cons = [con1, con2, con3, con4]"
   ]
  },
  {
   "cell_type": "code",
   "execution_count": 85,
   "metadata": {},
   "outputs": [
    {
     "name": "stdout",
     "output_type": "stream",
     "text": [
      "[0.77916452 0.60176153 0.21746085 0.86085474 0.04553955]\n"
     ]
    }
   ],
   "source": [
    "sol = minimize(objective, beta0, method='SLSQP',\n",
    "               bounds = bounds, constraints = cons)\n",
    "\n",
    "print sol.x"
   ]
  }
 ],
 "metadata": {
  "kernelspec": {
   "display_name": "Python 2",
   "language": "python",
   "name": "python2"
  },
  "language_info": {
   "codemirror_mode": {
    "name": "ipython",
    "version": 2
   },
   "file_extension": ".py",
   "mimetype": "text/x-python",
   "name": "python",
   "nbconvert_exporter": "python",
   "pygments_lexer": "ipython2",
   "version": "2.7.14"
  }
 },
 "nbformat": 4,
 "nbformat_minor": 2
}
