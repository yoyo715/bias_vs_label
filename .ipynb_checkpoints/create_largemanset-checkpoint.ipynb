{
 "cells": [
  {
   "cell_type": "code",
   "execution_count": 2,
   "metadata": {
    "collapsed": true
   },
   "outputs": [],
   "source": [
    "import os\n",
    "import json"
   ]
  },
  {
   "cell_type": "code",
   "execution_count": null,
   "metadata": {},
   "outputs": [
    {
     "name": "stderr",
     "output_type": "stream",
     "text": [
      "IOPub data rate exceeded.\n",
      "The notebook server will temporarily stop sending output\n",
      "to the client in order to avoid crashing it.\n",
      "To change this limit, set the config variable\n",
      "`--NotebookApp.iopub_data_rate_limit`.\n"
     ]
    }
   ],
   "source": [
    "directory = '../manual_tweets/'\n",
    "\n",
    "inactive = 0\n",
    "totalusers = 0\n",
    "users = 0\n",
    "\n",
    "for filename in os.listdir(directory):\n",
    "    print(filename)\n",
    "    filename = directory+filename\n",
    "    totalusers += 1\n",
    "    \n",
    "    \n",
    "    with open(filename, \"r\") as tweets_file:\n",
    "        numtweets = 0\n",
    "        #for line in tweets_file:\n",
    "        #    print(line)\n",
    "        #    try:\n",
    "        #        numtweets += 1\n",
    "                # Read in one line of the file, convert it into a json object \n",
    "        #        tweet = json.loads(line.strip())\n",
    "                #if 'text' in tweet: # only messages contains 'text' field is a tweet\n",
    "                    #print tweet['id'] # This is the tweet's id\n",
    "                    #print tweet['created_at'] # when the tweet posted\n",
    "                    #print tweet['text'] # content of the tweet\n",
    "\n",
    "                    #print tweet['user']['id'] # id of the user who posted the tweet\n",
    "                    #print tweet['user']['name'] # name of the user, e.g. \"Wei Xu\"\n",
    "                    #print tweet['user']['screen_name'] # name of the user account, e.g. \"cocoweixu\"\n",
    "         #   except:\n",
    "                #print(\"no json: user inactive\")\n",
    "         #       inactive += 1\n",
    "         #       continue\n",
    "\n",
    "         #   numtweets += 1\n",
    "\n",
    "          #  if numtweets >= 5:\n",
    "          #      break\n",
    "\n",
    "        #users = users + numtweets\n",
    "            \n",
    "    \n",
    "\n",
    "print(users)\n",
    "print(inactive, \" number of inactive users\")\n",
    "print(totalusers, \" number of total users\")\n",
    "print(totalusers - inactive, \" number of users in manual set\")"
   ]
  },
  {
   "cell_type": "code",
   "execution_count": 23,
   "metadata": {},
   "outputs": [
    {
     "name": "stdout",
     "output_type": "stream",
     "text": [
      "../manual_tweets/@0154_GUTIERREZ.txt\n",
      "(12310, ' number of total users')\n"
     ]
    }
   ],
   "source": [
    "directory = '../manual_tweets/'\n",
    "\n",
    "inactive = 0\n",
    "totalusers = 0\n",
    "users = 0\n",
    "\n",
    "filenames = []\n",
    "\n",
    "for filename in os.listdir(directory):\n",
    "    filename = directory+filename\n",
    "    totalusers += 1\n",
    "    \n",
    "    filenames.append(filename)\n",
    "    \n",
    "\n",
    "print filenames[0]\n",
    "with open(filenames[0], \"r\") as tweets_file:\n",
    "    for line in tweets_file:\n",
    "        print line\n",
    "    #tweet = json.loads(tweets_file)\n",
    "\n",
    "    \n",
    "    \n",
    "\n",
    "print(totalusers, \" number of total users\")"
   ]
  },
  {
   "cell_type": "code",
   "execution_count": 25,
   "metadata": {},
   "outputs": [
    {
     "name": "stdout",
     "output_type": "stream",
     "text": [
      "1\n"
     ]
    }
   ],
   "source": [
    "directory = '../manual_tweets/'\n",
    "\n",
    "filename = '@_baiibai.txt'\n",
    "\n",
    "filename = directory+filename\n",
    "\n",
    "numlines = 0\n",
    "with open(filename, \"r\") as tweets_file:\n",
    "    for line in tweets_file:\n",
    "        #print line\n",
    "        numlines += 1\n",
    "    #tweet = json.loads(tweets_file)\n",
    "    \n",
    "    \n",
    "print numlines\n"
   ]
  }
 ],
 "metadata": {
  "kernelspec": {
   "display_name": "Python 2",
   "language": "python",
   "name": "python2"
  },
  "language_info": {
   "codemirror_mode": {
    "name": "ipython",
    "version": 2
   },
   "file_extension": ".py",
   "mimetype": "text/x-python",
   "name": "python",
   "nbconvert_exporter": "python",
   "pygments_lexer": "ipython2",
   "version": "2.7.14"
  }
 },
 "nbformat": 4,
 "nbformat_minor": 2
}
