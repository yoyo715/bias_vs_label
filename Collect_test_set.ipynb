{
 "cells": [
  {
   "cell_type": "markdown",
   "metadata": {},
   "source": [
    "This script collects the timelines of the users in the Kaggle dataset (https://www.kaggle.com/crowdflower/twitter-user-gender-classification) which has the labels of each user's gender. The labels were hand labeled. "
   ]
  },
  {
   "cell_type": "code",
   "execution_count": 1,
   "metadata": {
    "collapsed": true
   },
   "outputs": [],
   "source": [
    "import pandas as pd"
   ]
  },
  {
   "cell_type": "code",
   "execution_count": 5,
   "metadata": {},
   "outputs": [],
   "source": [
    "df = pd.read_csv(\"/Users/madim/Desktop/ML_research/gender-classifier-DFE-791531.csv\")\n",
    "df = df[df.gender != 'brand']\n",
    "df = df[df.gender != 'unknown']\n",
    "df = df[df.gender.notnull()]"
   ]
  },
  {
   "cell_type": "code",
   "execution_count": 6,
   "metadata": {},
   "outputs": [
    {
     "name": "stdout",
     "output_type": "stream",
     "text": [
      "@sheezy0\n"
     ]
    }
   ],
   "source": [
    "usernames = df['name']\n",
    "users = []\n",
    "\n",
    "for user in usernames:\n",
    "    #print user\n",
    "    users.append('@'+user)\n",
    "    \n",
    "print(users[0])"
   ]
  },
  {
   "cell_type": "code",
   "execution_count": 7,
   "metadata": {},
   "outputs": [
    {
     "name": "stdout",
     "output_type": "stream",
     "text": [
      "2\n"
     ]
    }
   ],
   "source": [
    "labels = df['gender']\n",
    "print labels.nunique()\n",
    "\n",
    "correct_labels = []\n",
    "\n",
    "# 1 is female, 0 is male\n",
    "for label in labels:\n",
    "    if label == \"male\":\n",
    "        correct_labels.append(\"__label__0 \")\n",
    "    elif label == \"female\":\n",
    "        correct_labels.append(\"__label__1 \")\n",
    "    else:\n",
    "        print label"
   ]
  },
  {
   "cell_type": "code",
   "execution_count": null,
   "metadata": {
    "collapsed": true
   },
   "outputs": [],
   "source": []
  },
  {
   "cell_type": "code",
   "execution_count": 42,
   "metadata": {
    "collapsed": true
   },
   "outputs": [],
   "source": [
    "# access users' descriptions\n",
    "\n",
    "import tweepy\n",
    "import json\n",
    "from tweepy import OAuthHandler\n",
    "from ACCESS_TOKENS_DONTSHARE import *   # To get twitter api authentication creds\n",
    "\n",
    "        \n",
    "CONSUMER_KEY = get_consumer_key()\n",
    "CONSUMER_SECRET = get_consumer_secret()\n",
    "ACCESS_KEY = get_access_token()\n",
    "ACCESS_SECRET = get_access_secret()\n",
    "\n",
    "auth = OAuthHandler(CONSUMER_KEY,CONSUMER_SECRET)\n",
    "api = tweepy.API(auth)\n",
    "auth.set_access_token(ACCESS_KEY, ACCESS_SECRET)\n",
    "\n",
    "#search\n",
    "api = tweepy.API(auth)"
   ]
  },
  {
   "cell_type": "code",
   "execution_count": 9,
   "metadata": {},
   "outputs": [
    {
     "name": "stdout",
     "output_type": "stream",
     "text": [
      "12894\n",
      "12894\n"
     ]
    }
   ],
   "source": [
    "print len(users)\n",
    "print len(correct_labels)"
   ]
  },
  {
   "cell_type": "code",
   "execution_count": null,
   "metadata": {},
   "outputs": [
    {
     "name": "stdout",
     "output_type": "stream",
     "text": [
      "3200\n",
      "3226\n",
      "1833\n",
      "3198\n",
      "2909\n",
      "3203\n",
      "3205\n",
      "2915\n",
      "3213\n",
      "2754\n",
      "2934\n",
      "2647\n",
      "2922\n",
      "42\n",
      "User has less than 200 tweets\n",
      "2900\n",
      "3162\n",
      "3238\n",
      "2739\n",
      "3195\n",
      "3116\n",
      "1747\n",
      "3230\n",
      "2527\n",
      "866\n",
      "2984\n",
      "3195\n",
      "3174\n",
      "1912\n",
      "2977\n",
      "3074\n",
      "307\n",
      "2905\n",
      "2898\n",
      "63\n",
      "User has less than 200 tweets\n"
     ]
    }
   ],
   "source": [
    "# filter out retweets or no??\n",
    "\n",
    "not_avail = 0\n",
    "found = 0\n",
    "l = 0\n",
    "q = 0\n",
    "\n",
    "avg_numtweets = 0\n",
    "\n",
    "for user in users:\n",
    "    i = 0\n",
    "    tweet_lists = []\n",
    "    tweets = []\n",
    "    label = correct_labels[l]\n",
    "    l += 1\n",
    "    \n",
    "    try:\n",
    "        # collect tweets from user\n",
    "        for status in tweepy.Cursor(api.user_timeline, screen_name=user).items():\n",
    "            t = status._json['text']\n",
    "            tweets.append(t)\n",
    "            i += 1\n",
    "            \n",
    "            if i % 200 == 0:\n",
    "                tweet_lists.append(tweets)\n",
    "                tweets = []\n",
    "                continue\n",
    "                \n",
    "        found += 1\n",
    "        print(i)\n",
    "        avg_numtweets += i\n",
    "        \n",
    "        # write tweets to file\n",
    "        if i < 200:\n",
    "            print \"User has less than 200 tweets\"\n",
    "            q += 1\n",
    "        else:   \n",
    "            with open('../manually_labeled_set2.txt', 'a') as f:\n",
    "                #f.write(label)\n",
    "                #for item in tweets:\n",
    "                #    item = item.encode('ascii','ignore').replace(\"\\n\", \"\")\n",
    "                #    f.write(\"%s\\t\" % item)\n",
    "                #f.write(\"\\n\")  \n",
    "                \n",
    "                for tweets_ in tweet_lists:\n",
    "                    f.write(label)\n",
    "                    for item in tweets_:\n",
    "                        item = item.encode('ascii','ignore').replace(\"\\n\", \"\")\n",
    "                        f.write(\"%s\\t\" % item)\n",
    "                    f.write(\"\\n\")\n",
    "                \n",
    "    except Exception:\n",
    "        not_avail += 1\n",
    "        pass\n",
    "    \n",
    "    \n",
    "print not_avail, found, q\n",
    "print \"average number of tweets per user: \",  avg_numtweets/found"
   ]
  },
  {
   "cell_type": "code",
   "execution_count": 45,
   "metadata": {},
   "outputs": [
    {
     "name": "stdout",
     "output_type": "stream",
     "text": [
      "continueing\n",
      "continueing\n",
      "continueing\n",
      "continueing\n",
      "continueing\n",
      "continueing\n",
      "continueing\n",
      "continueing\n",
      "continueing\n",
      "1833\n",
      "*** Writing new label\n",
      "*** Writing new label\n",
      "*** Writing new label\n",
      "*** Writing new label\n",
      "*** Writing new label\n",
      "*** Writing new label\n",
      "*** Writing new label\n",
      "*** Writing new label\n",
      "*** Writing new label\n"
     ]
    }
   ],
   "source": [
    "# for testing\n",
    "\n",
    "i = 0\n",
    "tweets = []\n",
    "tweet_lists = []\n",
    "\n",
    "#print len(tweepy.Cursor(api.user_timeline, screen_name=users[3]))\n",
    "\n",
    "for status in tweepy.Cursor(api.user_timeline, screen_name=users[3]).items():\n",
    "    t = status._json['text']\n",
    "    tweets.append(t)\n",
    "    i += 1\n",
    "    if i % 200 == 0:\n",
    "        #break\n",
    "        print \"continueing\"\n",
    "        tweet_lists.append(tweets)\n",
    "        tweets = []\n",
    "        continue\n",
    "    \n",
    "print i\n",
    "label = correct_labels[3]\n",
    "\n",
    "\n",
    "# write tweets to file\n",
    "with open('../test2.txt', 'a+') as f:\n",
    "    for tweets_ in tweet_lists:\n",
    "        print \"*** Writing new label\"\n",
    "        f.write(label)\n",
    "        for item in tweets_:\n",
    "            item = item.encode('ascii','ignore').replace(\"\\n\", \"\")\n",
    "            f.write(\"%s\\t\" % item)\n",
    "        f.write(\"\\n\")\n",
    "   \n",
    "#i = 0\n",
    "#for tweet in tweets:\n",
    "    #print i, tweet.encode('ascii','ignore').replace(\"\\n\", \"\")\n",
    "#    i += 1"
   ]
  },
  {
   "cell_type": "code",
   "execution_count": 48,
   "metadata": {},
   "outputs": [
    {
     "name": "stdout",
     "output_type": "stream",
     "text": [
      "9\n",
      "__label__0 @gbrock13 @StanfordMGolf @13maverickm @PRodgersGolf @TigerWoods Great group!  #GoStanford\t@davegirouard Oh, they've been watching you...\tCongrats @deepnishar on joining @nikesharora.  Excited to see what's next at @SoftBank. https://t.co/oyf86v2J3o\tCongrats @dickc on a great run at @twitter  https://t.co/owU7EcMROM\tLIVE on #Periscope https://t.co/odFNc0ABuH\tLIVE on #Periscope: SF Bay https://t.co/9Tv742iKgv\t@kkappl02 Staying in Charlotte or moving out of the area?\t.@SteveCase - Spent much of my childhood in Hawaii. Sad. Entrepreneurs a bright spot - thoughts on accelerating? https://t.co/SYW1YFD3iF\tCongrats @PRodgersGolf on shooting 63 today at the @TravelersChamp - lowest round as a pro! #GoStanford and @StanfordMGolf\tGo @TomWatsonPGA - leading the field! https://t.co/OtncYhSpXw\tNot what I thought this article was about but would like to see more golf on @periscopetv cc: @periscopeco  https://t.co/2ExkelHfg1\t@1PureThought @jeffludden Wahoowa!\tWahoowa!   https://t.co/xu3baJgWkE\t#OmaHoos ! https://t.co/jZwTPjWuCx\tCongrats @UVABaseball!  Virginia wins College World Series http://t.co/bVLSTRiyfs via @richmonddotcom\t@a33or45 In a file cabinet ;)\tData-rich study on prevalence of TV cord shaving vs cutting, rise of alternatives http://t.co/N46BTVJVda @TechCrunch http://t.co/uKAv6Mq2iT\tYes. https://t.co/qoIR6Ui0YZ\t@amir @twitter @kevinweil Agreed!  No, wait...ugh, too late.\tThe @DarkSkyApp is my go-to app for determining whether rain might interfere with an outdoor activity.  http://t.co/D0h1PeWeSe via @verge\tWow, so many on the edges... https://t.co/6X7f5mq7Cq\tThrilled @UVa has named an engineering educator and scientist as EVP and Provost http://t.co/P2ZtFiHnPc #Wahoowa\tGreat to see @cardcoachray's  @StanfordMGolf program at the top of the list #GoStanford  https://t.co/wyw9J87TXl\t@fishermp Pinch! #DubNation #TrueFan\tCongrats @warriors!  #NBAChamps What an #NBAFinals!\t@JDayGolf @usopengolf What are your top mental keys for success this week? And thanks for US Open pic last year! http://t.co/2oks0QLb49\t@JDayGolf Hi Jason - What shot(s) will you need to have in your bag to win at Chambers Bay?  Also, most important part of your mindset?\tLove (and as a fan agree with!) this perspective - https://t.co/ySYDERR48i\tCongrats @UVA_Track! https://t.co/BGvKCc4v41\tHappy Flag Day!  https://t.co/Dwd7fDRm34 http://t.co/WCsZMljmaY\tWhat Twitter can be... https://t.co/z0Nu2qYTl4\tRT @SteveNash: What a basketball game. Fascinating series. Lebron carrying a load unfathomable. Steph...ridiculous.\tCongrats @PRodgersGolf! #GoStanford @StanfordMGolf  https://t.co/YgINL0J5xb\tTrue in so many circumstances  https://t.co/vvO0R8VoCM\tHave to believe increasing complexity is simply leading to guesswork  https://t.co/d2GEU0byLE\tIs it the right time?  The single biggest reason why startups succeed http://t.co/rukNlD73H4\tRT @jeffweiner: Awesome. Anheuser-Busch stops producing beer to make canned drinking water for flood victims http://t.co/S4tvpT4gmB\t@kevinthau @linksouldier Beach, bike, golf - check, check, check\t@POTUS What is the scientific evidence that links climate change and the drought in California? #AskPOTUS\tAll right Stanford men, the women have shown the way.  You got next!  #GoStanford #NCAAGolf @StanfordMGolf @cardcoachray @StanfordWGolf\tCongrats @StanfordWGolf on winning your first NCAA Championship! #NerdNation #GoStanford  http://t.co/5LdAefgYDs http://t.co/kQXuTcLs7t\tAnd we're back, a mere 40 years later.  #NBAFinals  Congrats @Warriors! #DubNation\tCongrats!  Go get 'em!   https://t.co/X8v7XNrng6\tNames of service members' spouses on tombstones a real reminder of sacrifices made by military families. Thank you. http://t.co/ArB58Yj8NO\tRemembering those who served to preserve our freedom with a visit to Golden Gate National Cemetery.  Thank you. http://t.co/QkaQ2Fg7FM\tUhuh, huh, huh... https://t.co/TfOExvjlHt\tAt the beginning of:  ASecularShiftToOnlineFoodOrdering http://t.co/VUL4SR8vKG via @techcrunch\t@IvanOrnelas2 Thanks!  Yes I did.  Please point out grammar issues anytime.  Btw, you probably meant \"meant,\" not \"meal.\" ;)\tGreat dual tonight.  @StephenCurry30 launches and makes again and again.  I mean, astonishingly good. Go @warriors ! #NBAPlayoffs\tReally enjoy @Sprig- Wholesome, hot and delivered fast! Use my code https://t.co/NDXzgTXFxx http://t.co/ozquBWhjdg\t@cardcoachray @BenHoganAward @13maverickm @PRodgersGolf  Lookin good gents! #GoStanford\tGreat... https://t.co/AX8BeZ9nSS\tNot quite ready ready for prime time?  30 days later, Im returning my Apple Watch (fullreview) http://t.co/VtzJ3c0Tm6 via @VentureBeat\tGreat week for @cardcoachray's @StanfordMGolf! Team to NCAA's, @13maverickm wins, @PRodgersGolf T2 at Wells Fargo! Congrats all! #GoStanford\tCongrats @UVaMensGolf for making the NCAA Championships #GoHoos\tCongrats @StanfordMGolf on reaching the NCAA Championship and @13maverickm for winning the NCAA Regional Title - 6th win this season!\tMeasure yourself on stakeholder happiness.  Valuation is theoretical until it becomes real through liquidity event. http://t.co/Qb01ENxmk3\t@IanJamesPoulter Thanks.  Well done and fun.  Enjoyed the dialogue\tArrived at @LYFEKitchen and skipped the line thanks to @OrderAhead. Easy to use, food was warm. Trying their delivery service next. #whywait\tSiri's team logical next step - Viv Will Replace Your Smartphone With Your Fridge and Then Take Over the World http://t.co/EziVaN66M1\tInteresting move by traditional co - News Digest App NYT Now Drops Subscription Pricing, Offers Brand Sponsorships http://t.co/sajURfsls0\t@sacca Shoot, everyone is under 40 in Silicon Valley.  Show me the 40 over 40 list.  Make that list.  That's something!\tWow. Verizon to Buy AOL for $4.4 Billion. Will this be the first telco-digital combo to realize the promise?  http://t.co/IeIiYoLOCa\t@elatable @ireneau @SusanKare Great pics!\t@kevinthau @bijan @sparkcapital Congrats!\tCongrats @RickieFowlerPGA  https://t.co/XnHQotOnWJ\tWe should all aspire to be more like @davegoldberg  Be Like Dave by @bgurley http://t.co/anT3T3mldN\tCongrats @StanfordMGolf - Back-to-back Pac-12 titles for the Cardinal. Back-to-back medalists. http://t.co/0SX5TjaIdW\tGo @StanfordMGolf - Good luck today in the Pac-12 Championships!  @cardcoachray @13maverickm\tOK, that was fast, well-priced and good!  Great first experience with @Sprig.  Thanks for the suggestion @jimpayne http://t.co/OOJPuIApid\tKnew this was coming - Streaming Overtakes Live TV Among Consumer Viewing Preferences: Study http://t.co/dmjT2dPqPX via @Variety\t@USPSHelp I need an express mail package returned to sender (me) from Augusta, GA post office, where no one will answer phone.  Help please!\tWow - Japan's maglev train breaks world speed record http://t.co/gWYMgfXTbJ via @verge\t.@bubbawatson showed a lot of class at @TheMasters attending ceremonial tee off, being on 18 for Crenshaw &amp; @JordanSpieth #respectforthegame\tTaken at @TheMasters - it really is true that not a single blade of grass is out of place.  Amazing. http://t.co/K5BJJkFhMf\tAnother wonderful video essay by @JimmyRobertsNBC  http://t.co/JESqa46btR via @golfdigest\tCongrats @JordanSpieth on being the first wire-to-wire @TheMasters winner in 39 years and tying the championship record.\tClassy move by @bubbawatson @RickieFowlerPGA @Keegan_Bradley - Golfers come out to see honorary starters #TheMasters http://t.co/9S4lG1pUz7\t@SEASUpdates Welcome to San Francisco!  Sorry to miss you this time around - come back soon!\tOK, now on to one of my favorite pieces by @CBSSports - #OneShiningMoment #NCAAChampionship\tWHAT...A...GAME!  Love college athletics.  Congrats @DukeU, Coach K and \"Game On\" @GraysonJAllen. Well fought @UWBadgers. #NCAAChampionship\tWhat a game!  @GraysonJAllen of @DukeU and @FSKPart3 of @UWBadgers are just killing it!  #NCAAChampionship\t@vernglenn @marchmadness Great to go to the dance but you don't get a tee shirt going out in the first round. #NIT Final 4. #GoStanford\tExciting development in battle against Alzheimer's - ultrasound restores memory in 75% of mice  http://t.co/nwkgvHOQaQ #via @ScienceAlert\tAgree! Age doesn't matter but being young does - thoughtful post by @robconeybeer  http://t.co/sXKflVpU5s\tWill be interesting to see how auto ecosystems develop - one view by @cloudmade http://t.co/MV9s7oNAI6\tGreat culture @soundcloud @alexanderljung Id up and leave in a second to work for Soundcloud  https://t.co/n5R35xGWbA\tMicrosoft continues to embrace other platforms with apps - smart. Cortana will invade iOS and Android http://t.co/OI3AnSJz64 via @engadget\tCongrats @alidiab @Collective Health @NEAVC - You're addressing a real issue for cos and consumers @FortuneMagazine http://t.co/oAQjwVuOaT\tHawaii consumes more @SPAMbrand than any state in the nation!  I ate my share even without these new flavors! http://t.co/MeDEIhSLYz\tThis evening: \"red sky at night, sailor's delight\" http://t.co/4EuECC4HAl\tBest food places use @Square - this time it's @HawRainbowFarms in Waimea! http://t.co/jXxwUTnveJ\tHappening now https://t.co/SSdwZ42DXm\tGood move - sites should be respnsive:  Google Makes Mobile-Friendliness A Ranking Signal Worldwide http://t.co/rYGo93nFNF via @techcrunch\tMaking some smart moves - Microsoft Has Suddenly Gotten Serious With Mobile http://t.co/tHCCp1zg5G\tBeen looking for a good photo solution - Bevy Debuts A Photo And Video Storage Solution http://t.co/w6n8p9vo4Z via @BevyOfficial\t@robconeybeer Spot on - totally agree.  I can't ever imagine anyone saying &lt;brand&gt; owns me.\tCompelling - got me to to try it.  How Pocket app changed my life. by @manoj_g33k https://t.co/2zioV18ovE cc: @pocket\tFebruary 15: beach day on the bay! https://t.co/Yag0n7b2Gz\tJust witnessed a marriage proposal at sunset on Carmel Beach - she said yes! #happyvalentinesday http://t.co/FrtAjunpoU\t@IanJamesPoulter Nike turned a sneaker into a golf shoe, maybe @FootJoy can turn a golf shoe into a sneaker. Hmm, who could help style?\t@hunterwalk Connected?  http://t.co/kVEQiK9gRh\tTime seems right.  @Aliceapp Raises $3 Million For Its Hotel Management And Guest ServicesApp http://t.co/5zkS09LUjy via @techcrunch\t@darrenrovell @vernglenn Of all the greats I saw in the 80's, Len Bias was unmatched in his ability to simply take over a game.\t@jgerber Great seats!\t@jgerber Lookin' good!\tCongrats @JDayGolf on winning the @FarmersInsOpen. We met at the US Open - truly one of the good guys on @PGATOUR. http://t.co/UzyOqbjfdZ\t@UVaMensGolf Hard to think of anything other than golf that puts Hawaii and Farmington CC in same tweet (btw I'm available to caddy) #GoHoos\tSeeing more artists embrace #Shazam RT @Madonna Are you #LivingForLove? Get @Shazam ready for Madonna's performance at @TheGRAMMYs #GRAMMYs\tWell, I've never heard \"grow revenue and the users will follow\" but it sure buys you some time to figure out things.  Go $TWTR !\tMore at stake = how the FCC will modernize the Title II regs of 1934 http://t.co/GuW54nSxAn @fredwilson @TomWheelerFCC\tMore at stake b/c simply classifying internet as a utility triggers application of 80-yr old regulations http://t.co/TGOdXkmvtU @fredwilson\t@gbrock13 @StanfordMGolf @13maverickm @iampgrimes Practice, practice, practice!  Nice - Nanea one of my favorites.\t@vernglenn @UVABasketball I was there tonight and the Hoos looked strong!\tHey @CollegeGameDay - which team has the toughest remaining schedule? #Askhat\tNext step in the digital wallet?  Delaware wants to put your driver's license on your phone http://t.co/X0F12lv4jD via @engadget\tAgree, +1 and Amen.  Thanks @scobleizer.  5 lessons Silicon Valley can learn from RobertScoble http://t.co/dVWgJBWAJn via @VentureBeat\tGood use case for mobile. Will competitors follow? @HotelTonight Adds New Features For Location-Specific Discounts http://t.co/30UyaxZ6SW\t@hunterwalk @MariaBartiromo @shyp @kevingibbon Disruptor?  Yep, but seems more like \"expander\" or \"enabler\" don't you think?\tSeems like I'm reading a lot more on @Medium now.\tReally like this move by @Whitehouse - Obama put the entire State of the Union on Medium before his speech http://t.co/Mkt8gYvuMO via @verge\tBig year for Pinterest? A view from Middle America - http://t.co/G1h39rpRgn via @VentureBeat\tBimonthly meeting of the ex-Googler and ex-Shazam club. Great to see you @fishermp @bartonsurfer ! http://t.co/BZThIy5cA4\tOn hiring veterans - The military teaches teamwork and focus on mission better than any org I know of. #SOTU\t\"To every CEO in America, let me repeat: If you want somebody whos going to get the job done &amp; done right, hire a veteran.\" #SOTU #POTUS\t\"Injustice anywhere is a threat to justice everywhere.\"  Rereading MLK's \"Letter from a Birmingham Jail\" #MLKDay http://t.co/f4gxP0VREI\tRT @mmurph: Amazed at # of enterprise portfolio cos growing 100% in '14, at large scale @puppetlabs @AppDynamics many more. Different ent e\tNothing better for prep step or shag dancing -  Build Me Up Buttercup by The Foundations tagged with #Shazam. http://t.co/MPxLoYtXva\t@fishermp loves taking the team to warriors game - here's his previous crew!  No hat love, though! @warriors @twitter http://t.co/bVbI31HTju\tCongrats @weschan and @felicisventures  http://t.co/8FHy1COKH1 via @techcrunch\tWow - ambitious new stadium for the @Atlanta_Falcons - Fly-Through: New Atlanta Stadium: http://t.co/hs4C1op86g via @YouTube\tObama to push for cheaper, speedier broadband in the US (starting in SF according to the WH data!) http://t.co/kzC3JaWhwK via @verge\t@bonforte Is there an after-market option for existing Teslas? May help @bgarlinghouse go after exec clientele with his #UberXTesla\tFound September by Earth, Wind &amp; Fire with #Shazam - just because it's my all time favorite http://t.co/l77zMGjxhf\tThoughtful piece on measuring user engagement - A mile wide, an inch deep by @ev https://t.co/zAVeRcoUtc\t\"You beat cancer by how you live, why you live, and in the manner in which you live.\" That's the quote I'll most remember. #RIPStuartScott\t@TODAYshow @MLauer @jennifer_k_long You want me to wear these?! Did you try @RichardsStore ?\tLove this use of 3D printing - Disabled dog runs for the first time thanks to 3D-printed legs http://t.co/Jmj6uSnJsY via @verge\tLately seems like any site visit triggers retargeting  http://t.co/WAWA9uKcpl via @VentureBeat\tCongrats @UVa VP Research, cofounder of @OpenGrounds Tom Skalak on being named Fellow of Nat'l Academy of Inventors   http://t.co/UtsLOpKlCJ\tRT @sama: total VC ever raised by:Microsoft: $1MMApple: $3.6MMIntel: $2.5MMCisco: $2.5MMGoogle: $25MMWebvan: $441MMFacebook: $2,426\tTrying on new uniforms: Dad during his plebe year at @NavalAcademy, the @NavyFB team at today's #ArmyNavyGame #GoNavy http://t.co/svJLKthfX3\tIt's 10:11 12/13/14\t@fishermp Matched only by peewee soccer!\tRT @alexanderljung: What do we want? Time travel! When do we want it? It's irrelevant! (Hat tip stroxler ) http://t.co/61Lz9CNovb\tSmart and overdue:  Microsoft Releases Half A Dozen MSN Apps For iOS And Android http://t.co/1mtbUAG2RP via @techcrunch\tGood to hear tho LT less clear: Verizon says network investments won't be impacted by FCC net neutrality push http://t.co/N5RGuhILV4 @verge\t@wadhwa Though if asked, a Harvard graduate will always say that they \"went to school in Boston\" (and seem to be the only ones to say that!)\t@tristanwalker Very kool.  Celebrate!\tMore than a trendy gadget? \"With Rumors Of Another Cellular-Capable Smartwatch, Lets Hit TheBrakes\" http://t.co/3ejmYYoYVH via @techcrunch\tNot surprising but interesting to see it quantified - half of online ads not seen - http://t.co/YDnDwQqtVT via @VentureBeat\tNo. 2 golf course at @pinehurstresort has reduced water usage by 70%. Others should follow. http://t.co/xhfunef5a4 via @golfdigest\tThe Tony Bennett/Lady Gaga pairing is just great fun.  Nice performance tonight on #ChristmasInRockefellerCenter http://t.co/oBAjoCLuTG\tGotta say that the Tony Bennett/Lady Gaga pairing is just great fun.  Nice performance tonight on #ChristmasInRockefe http://t.co/oBAjoCLuTG\t\"A non-conference matchup of unbeatens pits No. 7 @UVAMensHoops at No. 21 @TerrapinHoops.\"  Non-conference? Really? Feels so @theACC\tThanks @Thuuz - just got my alert that @UVAMensHoops is playing Maryland tonight. Would have missed it.  Thanks for the preview.  Go Hoos!\t@alidiab Great - then please take on filing taxes and painless dentistry!\tFast replays delivered to my phone and hot food delivered to my seat thanks to the @LevisStadium app by @VenueNext http://t.co/GnNShXyV3Q\tHappy Thanksgiving!  What do you say @49ers - let's cook some birds!  #BeatTheSeahawks #ComeToPlay #levisstadium http://t.co/0MWbmGC1SR\tFun #AMAs show tonight and great collaboration between @Shazam @TheAMAs &amp; @ABCNetwork to link to music and exclusives http://t.co/3XX9xfvULC\tRT @dickc: Well, that explains that. Odell Beckham Jr. pregame https://t.co/P6vrljkO7K\tCatch it like Beckham!  Unbelievable. http://t.co/xbQfoHqajp\tWatched @49ers replays all game with the @LevisStadium app by @VenueNext http://t.co/sJlvZ4ARUv\tWhoa - here's what you get when you order ribs @ChefMichaelMina 's @BourbonSteakPub #MinaTailgate @LevisStadium http://t.co/ERg5OvX3Ob\tThis is going to take a while...FCC Expects Cable Companies To Fight Back Over NetNeutrality http://t.co/7CNp8FFKwy via @techcrunch\tInteresting segment by @SamNBCBayArea noting Presidents @BarckaObama, Reagan &amp; Bush all used exec power to extend amnesty #ImmigrationAction\tCongrats @GideonYu @MitchellHuang on @EVAAutomation  - Valley Vet Gideon Yu Tries His Hand at Starting a Company @BW http://t.co/UNUjFse1A0\t@fishermp Ha!  OK, he's on the left.  Sadly, no habla espanol but he's your guy when you open an office in the Aloha State!\t@fishermp I know just the guy.  Meets your spec and *loves* Mexico!  He's on the right in this picture. http://t.co/C96KwJcZWz\tGood call! Ofcom's opening up more spectrum to cope with UK mobile data demands http://t.co/XM652dIAf3 via @engadget\tThank you Cpl Leberge!  Love this: @JayLeno surprises wounded veteran with new car http://t.co/c7mR9ABDnh via @todayshow\tOn @TheVoice - this guy is a TSA Officer. You never know about a person's hidden talents. http://t.co/t8vrfqEyRj\tStanford football games, where @NobelPrize winners are introduced between qtrs! Congrats W.E. Moerner! #GoStanford http://t.co/6SIudm1fxh\tJust sound business or political maneuver? The @FCC Responds To @ATT #NetNeutrality SaberRattling http://t.co/xlgMQdD31j via @techcrunch\tMaybe @alroker will come back early if I bring him my bone. #rokerthon @TODAYshow http://t.co/Ql7XnJfE3K\tDisappointing but private sector often reluctant to invest in  uncertain regulatory environments - http://t.co/W5i3VH3kRT via @VentureBeat\tMilitary service instills mission focus &amp; teamwork like no other org I've seen.   http://t.co/H6PLvHRFyU  https://t.co/9XsT7QyG3q @LinkedIn\tThank you @Starbucks CEO Howard Schultz: Honor vets with a concert  and a job http://t.co/8sPFWO2Wjc via @usatoday\tRT @reidhoffman: It's important for all of us to help veterans.  Glad that LinkedIn has launched this program.  http://t.co/AANwOkfbFL\tThank you to all who served in the armed forces and to the families who supported them.  Happy #VeteransDay.\tMany agree w. @WhiteHouse #NetNeutrality principles but do not support applying POTS regulatory scheme to broadband http://t.co/owGmEpX26A\tToday the @WhiteHouse put a stake in the ground on #NetNeutrality but so much more to play out http://t.co/fncQQB03I5\tPortland insiders prefer @BlueStarDonuts #pumpkinspice #realmapleandbacon #blueberrybourbonbasil http://t.co/lbiGO7KOBd\tWow.  Just wow.  One of the best dinners we've ever had. If you're in Portland, go!  Thanks @VQuandary\t@a33or45 :) Yes, fitting as I that's the car I just rented today - they keep coming to me...\tHey @Shazam - I found an album that is not in your database.  @a33or45 - better contact @Reed_College_ Reactor stat! http://t.co/PMIDPoLyWF\tThe baked goods at @Reed_College_ Commons are unbelievably good! Thank you Pastry Chef Annie Peterson! cc: @bamco http://t.co/XUk1MLYmOs\tFaster exit from @LevisStadium parking lot today.  Seemed like more attention being paid to managing pedestrians crossing roads and lots.\tThirst quenched via in-seat drink delivery ordered with the @LevisStadium  mobile app.  Thanks again @VenueNext http://t.co/n5mnKixS6t\tMissed that interception by the @49ers but saw the replay thanks to the @LevisStadium app!  Thanks @VenueNext ! http://t.co/7XepuaaVeT\tCompelling article by @wadhwa challenging the bias towards funding only young entrepreneurs - http://t.co/seE8KFpMxK\tRT @TODAYshow: We love @GM's statement about #ChevyGuy. http://t.co/YEmkFLR89K\tBeautiful sky in Palo Alto this morning http://t.co/PMq3Q1Ueej\tAwesome.  @SFGiants #MadBum #WorldSeries Truly a classic.\t.@kcsymphony's national anthem was a classy way to open #WorldSeries...or was it just a way to avoid the lyrics issues we've seen of late?\t@bgarlinghouse An enlightened way to understand the sharing economy?  A sign that the bubble is about to burst or the apocalypse is upon us?\tRT @BioDataGanache: Let's play spot the overachiever amongst the @Reed_College_ senior theses shall we? http://t.co/NZzn9edD3i\tHey @Chrysler - towing service can 't get 200c's parking brake to turn off for tow. You need to address cc   @enterprisecares @Enterprise\t@enterprisecares  @Enterprise Yes, safe. Tow truck has arrived but tech can't get @Chrysler 200c parking brake to release leaving me stuck.\t. @Enterprise @Chrysler - Called emergency phone number and they're on it by think you should evaluate car to prevent in future\t\n",
      "\n"
     ]
    }
   ],
   "source": [
    "dataset = open('../test2.txt').readlines()\n",
    "\n",
    "#print dataset[0]\n",
    "\n",
    "print len(dataset)\n",
    "\n",
    "print dataset[1]"
   ]
  },
  {
   "cell_type": "code",
   "execution_count": null,
   "metadata": {
    "collapsed": true
   },
   "outputs": [],
   "source": []
  }
 ],
 "metadata": {
  "kernelspec": {
   "display_name": "Python 2",
   "language": "python",
   "name": "python2"
  },
  "language_info": {
   "codemirror_mode": {
    "name": "ipython",
    "version": 2
   },
   "file_extension": ".py",
   "mimetype": "text/x-python",
   "name": "python",
   "nbconvert_exporter": "python",
   "pygments_lexer": "ipython2",
   "version": "2.7.14"
  }
 },
 "nbformat": 4,
 "nbformat_minor": 2
}
