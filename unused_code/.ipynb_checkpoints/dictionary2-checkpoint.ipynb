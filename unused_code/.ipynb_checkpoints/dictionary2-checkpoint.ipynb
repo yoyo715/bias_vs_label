{
 "cells": [
  {
   "cell_type": "code",
   "execution_count": 1,
   "metadata": {
    "collapsed": true
   },
   "outputs": [],
   "source": [
    "# use natural language toolkit\n",
    "import nltk\n",
    "#from nltk.stem.lancaster import LancasterStemmer\n",
    "import os\n",
    "import json\n",
    "import datetime\n",
    "#stemmer = LancasterStemmer()"
   ]
  },
  {
   "cell_type": "code",
   "execution_count": 5,
   "metadata": {},
   "outputs": [],
   "source": [
    "train = open('../../../data/query_gender.train').readlines() \n",
    "test = open('../../../data/query_gender.test').readlines() "
   ]
  },
  {
   "cell_type": "code",
   "execution_count": 6,
   "metadata": {},
   "outputs": [
    {
     "name": "stdout",
     "output_type": "stream",
     "text": [
      "(39127, 9782)\n"
     ]
    }
   ],
   "source": [
    "print(len(train), len(test))\n",
    "#train[0]\n",
    "#del train[0]  #only on first run"
   ]
  },
  {
   "cell_type": "code",
   "execution_count": 127,
   "metadata": {
    "collapsed": true
   },
   "outputs": [],
   "source": [
    "train.extend(test)\n",
    "dataset = train"
   ]
  },
  {
   "cell_type": "code",
   "execution_count": 128,
   "metadata": {},
   "outputs": [
    {
     "name": "stdout",
     "output_type": "stream",
     "text": [
      "48908\n"
     ]
    }
   ],
   "source": [
    "print(len(dataset))"
   ]
  },
  {
   "cell_type": "code",
   "execution_count": 132,
   "metadata": {
    "collapsed": true
   },
   "outputs": [],
   "source": [
    "import random \n",
    "random.shuffle(dataset)"
   ]
  },
  {
   "cell_type": "code",
   "execution_count": 135,
   "metadata": {},
   "outputs": [
    {
     "name": "stdout",
     "output_type": "stream",
     "text": [
      "5\n",
      "5\n"
     ]
    }
   ],
   "source": [
    "words =  []\n",
    "labels = []\n",
    "documents = []\n",
    "whitelist = set('abcdefghijklmnopqrstuvwxyz ABCDEFGHIJKLMNOPQRSTUVWXYZ 0123456789 \\t \\n')\n",
    "\n",
    "# loop through each instance in training data, gets labels\n",
    "for x in dataset[0:5]:\n",
    "    i = 0\n",
    "    inst = []\n",
    "    label = x[0:10]\n",
    "    if label[0:9] != '__label__':\n",
    "        print(\"ERROR in label creation\")\n",
    "        break\n",
    "    else:\n",
    "        labels.append(label)\n",
    "        \n",
    "    sent = ''\n",
    "    word = ''\n",
    "    for w in x[10:]:\n",
    "        if w in whitelist:\n",
    "            if w == '\\t':\n",
    "                inst.append(sent)\n",
    "                sent = ''\n",
    "                word = ''\n",
    "                i += 1\n",
    "            elif w != ' ':\n",
    "                word = word + w\n",
    "            else:\n",
    "                if \"http\" not in word and word != \"RT\" and word != \"rt\":\n",
    "                    sent = sent + ' ' + word\n",
    "                    word = ''\n",
    "                else:\n",
    "                    word = ''\n",
    "            \n",
    "    documents.append(inst)\n",
    "            \n",
    "              \n",
    "print(len(labels))\n",
    "print(len(documents))\n"
   ]
  },
  {
   "cell_type": "code",
   "execution_count": null,
   "metadata": {
    "collapsed": true
   },
   "outputs": [],
   "source": []
  }
 ],
 "metadata": {
  "kernelspec": {
   "display_name": "Python 2",
   "language": "python",
   "name": "python2"
  },
  "language_info": {
   "codemirror_mode": {
    "name": "ipython",
    "version": 2
   },
   "file_extension": ".py",
   "mimetype": "text/x-python",
   "name": "python",
   "nbconvert_exporter": "python",
   "pygments_lexer": "ipython2",
   "version": "2.7.14"
  }
 },
 "nbformat": 4,
 "nbformat_minor": 2
}
