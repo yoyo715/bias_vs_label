{
 "cells": [
  {
   "cell_type": "code",
   "execution_count": 2,
   "metadata": {
    "collapsed": true,
    "scrolled": true
   },
   "outputs": [],
   "source": [
    "import numpy as np\n",
    "\n",
    "with open('../query_gender.train') as fp:    \n",
    "    i = 1\n",
    "    train = []\n",
    "    while i >= 0:\n",
    "        line = fp.readline()\n",
    "        train.append(line)\n",
    "        i -= 1\n",
    "\n",
    "del train[0]"
   ]
  },
  {
   "cell_type": "code",
   "execution_count": 79,
   "metadata": {},
   "outputs": [
    {
     "data": {
      "text/plain": [
       "1"
      ]
     },
     "execution_count": 79,
     "metadata": {},
     "output_type": "execute_result"
    }
   ],
   "source": [
    "len(train)"
   ]
  },
  {
   "cell_type": "code",
   "execution_count": 163,
   "metadata": {
    "collapsed": true
   },
   "outputs": [],
   "source": [
    "def create_ngrams(n, instances):\n",
    "    i = 0\n",
    "    for inst in instances:\n",
    "        for sentence in inst:\n",
    "            newsent = sentence[:]\n",
    "            \n",
    "            while n > 1:\n",
    "                ngrams = zip(*[sentence[i:] for i in range(n)])\n",
    "                for gram in ngrams:\n",
    "                    newsent.append(gram)\n",
    "                n -= 1\n",
    "            \n",
    "            print(newsent) \n",
    "            print\n",
    "            \n",
    "            i += 1\n",
    "    \n",
    "            if i >= 1:\n",
    "                break"
   ]
  },
  {
   "cell_type": "code",
   "execution_count": 28,
   "metadata": {
    "collapsed": true
   },
   "outputs": [],
   "source": [
    "def create_char_ngrams(n, instances):\n",
    "    for inst in instances:\n",
    "        for sentence in inst:\n",
    "            for word in sentence:\n",
    "                char_ngrams = [word[i:i+n] for i in range(len(word)-n+1)]\n",
    "                    \n",
    "                #for gram in char_ngrams:\n",
    "                    #sentence.append(gram)\n",
    "                        \n",
    "                print(word)\n",
    "    print()"
   ]
  },
  {
   "cell_type": "code",
   "execution_count": 217,
   "metadata": {},
   "outputs": [
    {
     "name": "stdout",
     "output_type": "stream",
     "text": [
      "1\n"
     ]
    }
   ],
   "source": [
    "words =  []\n",
    "labels = []\n",
    "documents = []\n",
    "# whitelist = set('abcdefghijklmnopqrstuvwxyz ABCDEFGHIJKLMNOPQRSTUVWXYZ 0123456789 \\t \\n')\n",
    "whitelist = set('abcdefghijklmnopqrstuvwxyz ABCDEFGHIJKLMNOPQRSTUVWXYZ \\t \\n')\n",
    "\n",
    "# loop through each instance in training data, gets labels\n",
    "for x in train:\n",
    "    i = 0\n",
    "    inst = []\n",
    "    label = x[0:10]\n",
    "    if label[0:9] != '__label__':\n",
    "        print(\"ERROR in label creation\")\n",
    "        break\n",
    "    else:\n",
    "        labels.append(float(label[-1]))\n",
    "\n",
    "    sent = []\n",
    "    word = ''\n",
    "    for w in x[10:]:\n",
    "        if w in whitelist:\n",
    "            if w == '\\t':\n",
    "                inst.append(sent)\n",
    "                sent = []\n",
    "                word = ''\n",
    "                i += 1\n",
    "            elif w != ' ':\n",
    "                word = word + w\n",
    "            else:\n",
    "                if \"http\" not in word and word != \"RT\" and word != \"rt\":\n",
    "                    if word != '':\n",
    "                        sent.append(word.lower())\n",
    "                    word = ''\n",
    "                else:\n",
    "                    word = ''\n",
    "    documents.append(inst)\n",
    "    \n",
    "print len(documents)"
   ]
  },
  {
   "cell_type": "code",
   "execution_count": 110,
   "metadata": {
    "collapsed": true,
    "scrolled": false
   },
   "outputs": [],
   "source": [
    "## %pprint\n",
    "#documents"
   ]
  },
  {
   "cell_type": "code",
   "execution_count": 178,
   "metadata": {},
   "outputs": [
    {
     "name": "stdout",
     "output_type": "stream",
     "text": [
      "\t\n",
      "\n"
     ]
    }
   ],
   "source": [
    "create_ngrams(3, documents)"
   ]
  },
  {
   "cell_type": "code",
   "execution_count": 3,
   "metadata": {
    "collapsed": true
   },
   "outputs": [],
   "source": [
    "def create_instances_and_labels(dataset):\n",
    "        words =  []\n",
    "        labels = []\n",
    "        documents = []\n",
    "        #whitelist = set('abcdefghijklmnopqrstuvwxyz ABCDEFGHIJKLMNOPQRSTUVWXYZ 0123456789 \\t \\n')\n",
    "        whitelist = set('abcdefghijklmnopqrstuvwxyz ABCDEFGHIJKLMNOPQRSTUVWXYZ \\t \\n')\n",
    "\n",
    "        # loop through each instance in training data, gets labels\n",
    "        for x in dataset:\n",
    "            i = 0\n",
    "            inst = ''\n",
    "            label = x[0:10]\n",
    "            if label[0:9] != '__label__':\n",
    "                print(\"ERROR in label creation\")\n",
    "                break\n",
    "            else:\n",
    "                labels.append(float(label[-1]))\n",
    "                \n",
    "            sent = ''\n",
    "            word = ''\n",
    "            for w in x[10:]:\n",
    "                if w in whitelist:\n",
    "                    if w == '\\t':\n",
    "                        #inst.append(sent)\n",
    "                        inst = inst + '\\t' + sent\n",
    "                        sent = ''\n",
    "                        word = ''\n",
    "                        i += 1\n",
    "                    elif w != ' ':\n",
    "                        word = word + w\n",
    "                    else:\n",
    "                        if \"http\" not in word and word != \"RT\" and word != \"rt\":\n",
    "                            sent = sent + ' ' + word.lower()\n",
    "                            word = ''\n",
    "                        else:\n",
    "                            word = ''\n",
    "            \n",
    "            documents.append(inst)\n",
    "            \n",
    "        return documents"
   ]
  },
  {
   "cell_type": "code",
   "execution_count": 219,
   "metadata": {},
   "outputs": [
    {
     "data": {
      "text/plain": [
       "[[['cesecimi', 'im', 'good', 'dear', 'and'], ['i', 'have', 'the', 'best', 'name', 'for', 'kiss', 'daniel'], ['i', 'have', 'the', 'best', 'name', 'for', 'kiss'], ['cesecimi', 'being', 'a', 'while', 'my'], ['get', 'ready', 'spend', 'on', 'datamake', 'telecom', 'networks', 'amp', 'organizers', 'richer', 'amp', 'lucky', 'dude', 'or', 'babe', 'famous', 'amp', 'richer', 'yl', 'ure', 'still', 'hustling'], ['armed', 'robbers', 'were', 'trying', 'to', 'rob', 'me', 'so', 'i', 'started', 'running', 'while', 'running', 'i', 'sighted', 'sars', 'i', 'turned', 'back', 'amp', 'ran', 'to', 'd', 'thieves'], ['so', 'you', 'treat', 'me', 'like', 'a', 'modern', 'slave', 'mr', 'jailer'], ['ufefeman', 'hello'], ['please', 'i', 'need', 'strong', 'men', 'to', 'define', 'magun', 'feels', 'good', 'to', 'be', 'back', 'again', 'ive', 'missed'], ['newprofilepic'], ['if', 'you', 'like', 'load', 'it', 'thinking', 'its', 'recharge', 'card', 'its', 'the', 'two', 'days', 'of', 'public', 'holidays', 'naija', 'and'], ['renoomokri', 'christians', 'av', 'always', 'slept', 'while', 'd', 'lion', 'feasted', 'on', 'their', 'lambshere', 'goes', 'another', 'era', 'of', 'slavery', 'd', 'religion', 'amp', 'ppl', 'of', 'd', 'oda'], ['renoomokri', 'with', 'the', 'removal', 'of', 'crk', 'from', 'our', 'curriculum', 'and', 'the', 'slaughter', 'of', 'christians', 'nationwide', 'by', 'herdsmen', 'i', 'ask', 'is', 'the', 'anti'], ['xclusivejenny', 'nose', 'ring', 'navel', 'ringleg', 'chainnow', 'the', 'bank', 'door', 'has', 'refused', 'to', 'open', 'for', 'you', 'aunty', 'biko', 'shift', 'lemme', 'pass', 'iron'], ['eveumeh', 'if', 'rap', 'means', 'rhythm', 'and', 'poetry', 'then', 'efemoney', 'my', 'bbnaija', 'son', 'is', 'doing', 'pretty', 'wellhis', 'raps', 'are', 'rhythmic', 'poetry', 'not', 'all'], ['people', 'talkin', 'abt', 'd', 'devil', 'tempting', 'dem', 'taarb', 'quiet', 'amp', 'own', 'ur', 'actions', 'amp', 'd', 'consequencesd', 'bible', 'says', 'resist', 'd', 'devil', 'amp', 'hell', 'flee', 'away', 'rm'], ['aninomso', 'as', 'a', 'child', 'we', 'knew', 'our', 'parents', 'car', 'horn', 'once', 'you', 'hear', 'it', 'from', 'streets', 'away', 'you', 'start', 'arranging', 'the', 'house', 'to', 'default'], ['trendsofnigeria', 'meet', 'nigerian', 'amp', 'john', 'hopkins', 'grad', 'prof', 'wendy', 'osefo', 'is', 'first', 'black', 'woman', 'to', 'receive', 'a', 'phd', 'in', 'philosophy', 'public'], ['benmurraybruce', 'wise', 'saying', 'from', 'a', 'wise', 'and', 'eloquent'], ['benmurraybruce', 'we', 'who', 'deal', 'with', 'the', 'currency', 'of', 'love', 'must', 'not', 'trade', 'with', 'those', 'whose', 'currency', 'is', 'hatred', 'we', 'must', 'use', 'our', 'currency', 'to'], ['officialefcc', 'when', 'the', 'opposition', 'is', 'corrupt', 'even', 'its', 'spokesman', 'can', 'be', 'silenced', 'funny', 'how', 'all', 'the', 'initial', 'rantings', 'have', 'gone'], ['officialefcc', 'i', 'guess', 'nigerians', 'are', 'too', 'serious', 'minded', 'appreciate', 'u', 'downing', 'the', 'tension', 'in', 'a', 'heated', 'polity', 'intelligence', 'vs', 'humor'], ['officialefcc', 'all', 'work', 'and', 'no', 'play', 'makes', 'jack', 'a', 'dull', 'boy', 'its', 'only', 'normal', 'that', 'the', 'wolf', 'should', 'play', 'around', 'the', 'kittens', 'after', 'a', 'rough'], ['officialefcc', 'guess', 'we', 'cant', 'blame', 'the', 'dog', 'really', 'especially', 'if', 'it', 'heard', 'you', 'voice', 'this', 'text', 'verbatim', 'it', 'is', 'neighbors', 'their'], ['date', 'your', 'husband', 'always', 'he', 'also', 'needs', 'to', 'be', 'pampered', 'spoilt', 'and', 'told', 'that', 'hes', 'handsome', 'and', 'the', 'best', 'thing', 'thats', 'ever', 'happened', 'to'], ['trendsofnigeria', 'meet', 'jimoh', 'and', 'bridget', 'ogunlayi', 'a', 'blind', 'couple', 'they', 'use', 'beads', 'and', 'wire', 'and', 'turn', 'them', 'into', 'bags', 'lamps', 'jewelry'], ['normalcy', 'can', 'be', 'regained', 'through', 'a', 'little', 'bit', 'of', 'insanity', 'go', 'wild', 'a', 'little', 'youll', 'find', 'that', 'things', 'actually', 'return', 'back', 'to'], ['sometimes', 'just', 'misbehave', 'a', 'little', 'to', 'become', 'normal', 'again', 'small'], ['cesecimi', 'same', 'here', 'babe', 'dont', 'worry', 'im'], ['meggyjoe', 'and', 'the', 'most', 'annoying', 'one', 'isit', 'is', 'the', 'female', 'mosquitoes', 'that', 'causes', 'malaria', 'females', 'get', 'wahala', 'wallahiok'], ['meggyjoe', 'why', 'is', 'it', 'always', 'females', 'female', 'dogs', 'become', 'so', 'wicked', 'when', 'they', 'give', 'birth', 'female', 'fowls', 'chase', 'people', 'when', 'they'], ['meggyjoe', 'male', 'lions', 'dont', 'eat', 'humans', 'no', 'matter', 'how', 'hungry', 'they', 'are', 'but', 'female', 'lions', 'do', 'tear', 'people', 'apart'], ['cesecimi', 'baby', 'biko', 'tell', 'them', 'mtchewww', 'long'], ['cesecimi', 'a', 'bishop', 'in', 'ahiara', 'diocese', 'was', 'rejected', 'becos', 'he', 'is', 'from', 'anambra', 'but', 'u', 'want', 'biafra', 'stop', 'deceiving', 'yourself', 'and', 'pray', 'for'], ['janzenweyi', 'that', 'moment', 'when', 'people', 'cause', 'you', 'pain', 'and', 'sorrow', 'and', 'still', 'act', 'the', 'victim', 'making', 'you', 'look', 'like', 'the', 'villain'], ['our', 'government', 'can', 'recognize', 'ppl', 'who', 'returned', 'lost', 'money', 'but', 'abandon', 'heroic', 'policemen', 'who', 'laid', 'their', 'lives', 'down', 'to', 'protect', 'the', 'common'], ['osisuave', 'please', 'can', 'anyone', 'get', 'the', 'bank', 'details', 'of', 'the', 'wife', 'of', 'the', 'police', 'officer', 'that', 'died', 'in', 'that', 'bank', 'robbery', 'so', 'we', 'can', 'help', 'her'], ['if', 'u', 'know', 'u', 'cant', 'forgive', 'a', 'woman', 'when', 'she', 'cheats', 'then', 'dont', 'cheat', 'before', 'you', 'slap', 'her', 'give', 'yourself', 'a', 'slap', 'if', 'u', 'cant', 'den', 'let', 'it'], ['findepie', 'please', 'retweet', 'until', 'we', 'get', 'd', 'authorities', 'to', 'actthis', 'cameroonian', 'guy', 'published', 'a', 'video', 'via', 'whatsapp', 'se'], ['jennifertangyie', 'cnn', 'ajstream', 'punchlineafric', 'findepie', 'rape', 'is', 'never', 'ok', 'southerncameroons', 'dont', 'need', 'such', 'devil'], ['danielngongang', 'no', 'woman', 'should', 'have', 'to', 'endure', 'such', 'disgrace', 'at', 'the', 'hands', 'of', 'any', 'man', 'find', 'this', 'man', 'findepie'], ['findepie', 'it', 'is', 'not', 'okay', 'to', 'rape', 'a', 'woman', 'no', 'means', 'no', 'plz', 'find', 'this', 'guy'], ['rouvafe', 'so', 'earlier', 'today', 'my', 'pastor', 'called', 'for', 'a', 'special', 'offering', 'amp', 'said', 'everyone', 'who', 'offered', 'will', 'receive', 'an', 'alert', 'before', 'pm', 'im'], ['olubaba', 'the', 'hospital', 'was', 'bedridden', 'for', 'the', 'next', 'days', 'more', 'than', 'mg', 'of', 'tramadol', 'with', 'lots', 'of', 'codeine', 'i', 'learnt', 'the', 'hard'], ['tweetoracle', 'find', 'someone', 'who', 'will', 'love', 'your', 'soul', 'more', 'than', 'your'], ['imohbaba', 'wen', 'ur', 'mum', 'told', 'u', 'dt', 'phone', 'wi', 'kill', 'u', 'day', 'is', 'wen', 'u', 'mistakenly', 'off', 'd', 'dstv', 'in', 'a', 'viewing', 'center', 'during', 'a', 'penalty', 'shootout'], ['janzenweyi', 'we', 'have', 'one', 'big', 'issue', 'at', 'the', 'moment', 'nigeria', 'banks', 'have', 'adjusted', 'their', 'atms', 'to', 'dispense', 'k', 'so', 'they', 'charge', 'more'], ['janzenweyi', 'this', 'must', 'be', 'looked', 'into', 'instead', 'of', 'making', 'life', 'easier', 'for', 'people', 'they', 'find', 'ways', 'to', 'squeeze', 'the', 'last', 'resources', 'out', 'of'], ['mordiofficial', 'this', 'made', 'me', 'laugh', 'so', 'hard', 'all', 'through', 'the', 'morning', 'when', 'you', 'dont', 'want', 'your', 'enemies', 'to', 'track', 'your', 'moves'], ['efemoney', 'in', 'wat', 'ever', 'u', 'do', 'keep', 'walkingkeep', 'movingeven', 'if', 'u', 'fall', 'god', 'handask', 'for', 'forgiveness', 'and', 'move', 'onall', 'of', 'us', 'na', 'him'], ['barackobama', 'our', 'hearts', 'go', 'out', 'to', 'those', 'killed', 'and', 'wounded', 'in', 'manchester', 'americans', 'will', 'always', 'stand', 'shoulder', 'to', 'shoulder', 'with', 'the'], ['thatijebubadoo', 'if', 'you', 'think', 'because', 'you', 'slept', 'with', 'a', 'girl', 'her', 'worth', 'has', 'stepped', 'down', 'then', 'yours', 'has', 'done', 'same', 'too', 'because', 'she'], ['roegary', 'sometimes', 'we', 'need', 'to', 'just', 'brush', 'away', 'our', 'pride', 'break', 'down', 'the', 'walls', 'around', 'our', 'hearts', 'and', 'open', 'up', 'to', 'those', 'we', 'truly'], ['janzenweyi', 'have', 'hands', 'and', 'feet', 'dont', 'wait', 'for', 'it', 'to', 'come', 'go', 'for', 'it', 'it', 'is', 'worth', 'trying', 'than', 'not', 'at', 'all', 'dont', 'be', 'lazy', 'we', 'all', 'are'], ['lindaikeji', 'photos', 'naf', 'commences', 'trial', 'of', 'aircraftman', 'kalu', 'who', 'allegedly', 'killed', 'colleaguegirlfriend', 'sholape', 'oladipupo'], ['its', 'happening', 'in', 'benue', 'jukun', 'and', 'tiv', 'fighting', 'burning', 'houses', 'killing', 'each', 'other', 'gunshots', 'we', 'need', 'peacebrotherhood'], ['burnaboy', 'have', 'you', 'prayed', 'for', 'benue', 'borno', 'niger', 'delta', 'quench', 'the', 'fire', 'burning', 'in', 'your', 'own'], ['trendsofnigeria', 'this', 'is', 'not', 'somewhere', 'in', 'china', 'or', 'overseas', 'this', 'is', 'nigeria', 'mambilla', 'plateau', 'taraba', 'visitnigeria', 'tournigeria'], ['xxencore', 'izuudechukwu', 'benmurraybruce', 'nothing', 'unfortunate', 'about', 'it', 'these', 'individuals', 'are', 'british', 'not', 'nigerians', 'raise', 'ur', 'own'], ['gaintsofafrica', 'soonqie', 'xxencore', 'benmurraybruce', 'good', 'stoop', 'down', 'to', 'their', 'level', 'and', 'solve', 'it', 'it', 'obviously', 'has', 'impact', 'on', 'your'], ['ldwllms', 'jeyon', 'mrphones', 'chideraa', 'im', 'sorry', 'about', 'that', 'you', 'r'], ['ldwllms', 'jeyon', 'mrphones', 'chideraa', 'you', 'would', 'be', 'shocked', 'to', 'see', 'people', 'with', 'ican', 'sef', 'applying', 'if', 'the', 'pay', 'is', 'too', 'small', 'just'], ['olukeys', 'welcome', 'on'], ['i', 'cant', 'kill', 'myself', 'because', 'a', 'man', 'jilted', 'me', 'do', 'u', 'knw', 'hw', 'many', 'guys', 'have', 'hit', 'on', 'meper', 'secondminutehour', 'girl', 'just', 'pick', 'one', 'amp', 'move'], ['if', 'your', 'man', 'is', 'using', 'mtn', 'and', 'youre', 'using', 'glo', 'in', 'this', 'recession', 'youre', 'in', 'a', 'long', 'long', 'distance'], ['sireliljosh', 'coajnr', 'a', 'deliverance', 'sessionmum', 'takes', 'her', 'boys', 'insists', 'on', 'going', 'in', 'amp', 'bn', 'd', 'explainme', 'her', 'r', 'u', 'd', 'evil'], ['billiontwits', 'nicki', 'minaj', 'paying', 'fans', 'sch', 'fees', 'amp', 'all', 'all', 'naija', 'musicians', 'know', 'how', 'to', 'do', 'is', 'tell', 'us', 'how', 'rich', 'theyre', 'amp', 'flaunt'], ['congrats', 'to', 'all', 'mothers', 'over', 'chibok', 'girls', 'released', 'its', 'a', 'victory', 'but', 'their', 'release', 'springs', 'up', 'a', 'lot', 'of', 'doubts', 'amp'], ['ill', 'do', 'whatever', 'makes', 'me', 'happy', 'so', 'long', 'as', 'i', 'sleep', 'well', 'at', 'night', 'and', 'my', 'peace', 'is', 'intact', 'why', 'please', 'people', 'amp', 'have', 'a', 'sleepless'], ['misturrsam', 'if', 'you', 'read', 'this', 'book', 'as', 'a', 'kid'], ['roegary', 'reexamine', 'all', 'you', 'have', 'been', 'told', 'dismiss', 'what', 'insults', 'your', 'soul', 'mindset'], ['degostee', 'if', 'you', 'understand', 'yoruba', 'watch', 'this'], ['imolitegirl', 'eighty', 'kidnapped', 'chibok', 'girls', 'freed', 'by', 'boko', 'haram', 'cheering', 'newsthanks', 'to', 'our', 'hardworking', 'nigerian'], ['just', 'because', 'im', 'quiet', 'while', 'u', 'insult', 'me', 'doesnt', 'mean', 'u', 'got', 'the', 'aces', 'i', 'probably', 'av', 'found', 'someone', 'beta', 'dan', 'uamp', 'no', 'longer', 'give', 'a', 'fuck', 'abt'], ['tweetoracle', 'premature', 'sex', 'damages', 'good', 'friendships', 'friends', 'console', 'each', 'other', 'not', 'bang', 'each'], ['janzenweyi', 'just', 'because', 'someone', 'is', 'not', 'there', 'today', 'doesnt', 'mean', 'he', 'wont', 'get', 'there', 'tomorrow', 'treat', 'all', 'fairly', 'and', 'justly', 'lifes', 'a'], ['ive', 'never', 'enjoyed', 'love', 'making', 'with', 'anyone', 'the', 'way', 'i', 'enjoy', 'it', 'with', 'you', 'seriously', 'just', 'get', 'over', 'with', 'it', 'its', 'd', 'same'], ['i', 'have', 'never', 'loved', 'anyone', 'like', 'i', 'love', 'you', 'seriously', 'dude', 'just', 'stop', 'with', 'the'], ['coajnr', 'i', 'got', 'married', 'as', 'a', 'virgin', 'i', 'never', 'kissed', 'a', 'guy', 'im'], ['where', 'is', 'olisa', 'metuh', 'our', 'opposition', 'leaders', 'hav', 'bcom', 'silent', 'bcoz', 'they', 'av', 'dark', 'secretswe', 'need', 'honest', 'men', 'in', 'd', 'opposition'], ['yl', 'our', 'xtian', 'religious', 'leaders', 'preach', 'tithes', 'offerings', 'and', 'first', 'fruitsd', 'oda', 'side', 'empower', 'amp', 'lead', 'us', 'as', 'sheep', 'd', 'slaughter'], ['eagles', 'wen', 'no', 'fit', 'hop', 'talk', 'more', 'of', 'fly', 'highor', 'add', 'super', 'yet', 'him', 'pikin', 'eaglet', 'dey', 'go', 'chop', 'come', 'back', 'with', 'cup', 'water', 'dt', 'one', 'na'], ['why', 'does', 'society', 'expect', 'women', 'to', 'endure', 'and', 'suffer', 'with', 'the', 'man', 'when', 'things', 'are', 'not', 'ok', 'but', 'expect', 'women', 'to', 'understand', 'when', 'men', 'cannot'], ['bail', 'is', 'free', 'somebody', 'please', 'tell', 'naija', 'police', 'force'], ['tweetoracle', 'less', 'than', 'hrs', 'to', 'my', 'birthday', 'me', 'and', 'my', 'twin', 'brother', 'knoxtainment', 'have', 'quite', 'a', 'surprise', 'for', 'yall', 'mayborn'], ['tweetoracle', 'a', 'man', 'leading', 'a', 'woman', 'on', 'is', 'always', 'more', 'dangerous', 'than', 'a', 'woman', 'leading', 'a', 'man', 'on', 'the', 'former', 'is', 'likely', 'to', 'end', 'with', 'a'], ['luwatosino', 'thelegittolu', 'anyways', 'i', 'think', 'some', 'politicians', 'should', 'start', 'acting', 'dead'], ['thelegittolu', 'since', 'banky', 'and', 'adesua', 'are', 'getting', 'married', 'from', 'acting', 'married', 'i', 'think', 'i', 'better', 'start', 'acting'], ['until', 'politicians', 'start', 'receiving', 'jail', 'terms', 'and', 'staying', 'in', 'prison', 'on', 'remand', 'yrs', 'yl', 'awaiting', 'trialjustice', 'is', 'denied'], ['i', 'am', 'tired', 'of', 'tv', 'channels', 'taking', 'money', 'from', 'corrupt', 'politicians', 'biased', 'and', 'religious', 'bigots', 'giving', 'them', 'a', 'say', 'on', 'tv', 'our', 'mumu', 'don'], ['when', 'will', 'girls', 'just', 'be', 'able', 'to', 'wake', 'up', 'pay', 'for', 'the', 'drink', 'amp', 'meal', 'they', 'ate', 'get', 'off', 'the', 'chair', 'tell', 'the', 'guy', 'im', 'sorry', 'and', 'walk'], ['got', 'to', 'work', 'dont', 'wait', 'for', 'a', 'man', 'to', 'pay', 'the', 'bills'], ['god', 'forbid', 'somes', 'blood', 'is', 'required', 'rm', 'our', 'hands', 'becoz', 'we', 'pushed', 'some', 'in', 'killing', 'hisherself', 'say', 'no', 'suicide', 'be', 'ur', 'bros'], ['say', 'no', 'to', 'suicide', 'spread', 'love', 'not', 'hatred', 'stop', 'the', 'blame', 'game', 'encourage', 'not', 'discourage', 'god', 'forbid', 'god', 'requires', 'somes'], ['efe', 'no', 'sabi', 'rap', 'na', 'wah', 'oh', 'all', 'this', 'latest', 'songs', 'making', 'the', 'waves', 'no', 'be', 'noise', 'just', 'dat', 'one', 'noise', 'sounds', 'more', 'appealing', 'than', 'd'], ['what', 'efe', 'needs', 'is', 'diversification', 'he', 'might', 'not', 'b', 'd', 'best', 'at', 'rapping', 'bt', 'hell', 'dig', 'in', 'deep', 'we', 'voted', 'him', 'his', 'personality', 'not', 'talent'], ['whats', 'al', 'd', 'fuss', 'abt', 'if', 'its', 'good', 'rocky', 'or', 'hz', 'prospectstay', 'amp', 'work', 'it', 'out', 'bt', 'if', 'its', 'bad', 'on', 'all', 'levels', 'drop', 'it', 'turn', 'around', 'amp', 'walk'], ['thembimatipira', 'hahahaha', 'authentic', 'african', 'mother', 'keep', 'it'], ['chudichu', 'someone', 'got', 'arrested', 'for', 'going', 'out', 'at', 'night', 'to', 'buy', 'bread', 'and', 'akamu', 'night', 'food', 'slept', 'in', 'cell', 'ontop'], ['chaiiii', 'wonders', 'will', 'never', 'end', 'is', 'dia', 'anything', 'like', 'masculinefeminine', 'blood', 'or', 'heart', 'if', 'a', 'man', 'can', 'cheat', 'amp', 'be', 'jealousso', 'can', 'a'], ['feoluwa', 'an', 'average', 'nigerian', 'graduate', 'cant', 'get', 'a', 'job', 'without', 'completing', 'nysc', 'the', 'people', 'that', 'make', 'the', 'laws', 'need', 'just', 'ssce', 'cert'], ['ajiehf', 'bbnajia', 'can', 'see', 'ure', 'idleget', 'a', 'job', 'learn', 'manners', 'knw', 'ur', 'mates', 'amp', 'go', 'get', 'som', 'food', 'eat', 'u', 'luk', 'lyk', 'u', 'jst', 'got', 'deported', 'rm'], ['ajiehf', 'bbnaija', 'of', 'course', 'im', 'not', 'ur', 'mate', 'age', 'wise', 'or', 'anything', 'im', 'a', 'proud', 'mama', 'elephant', 'so', 'why', 'd', 'heck', 'did', 'u', 'just', 'follow'], ['elladafe', 'hahaha', 'funny', 'you', 'love', 'your'], ['stand', 'tall', 'wipe', 'the', 'mud', 'from', 'your', 'face', 'shake', 'off', 'the', 'dirt', 'from', 'your', 'body', 'rise', 'with', 'your', 'head', 'held', 'highamp', 'wipe', 'd', 'smirk', 'off', 'their'], ['kill', 'the', 'hate', 'judgement', 'and', 'jealousy', 'in', 'people', 'by', 'standing', 'up', 'to', 'your', 'mistakes', 'making', 'amends', 'and', 'smiling', 'through', 'it'], ['i', 'am', 'me', 'i', 'am', 'at', 'peace', 'with', 'myself', 'i', 'forgive', 'myself', 'if', 'you', 'cant', 'deal', 'with', 'that', 'then', 'i', 'feel', 'sorry', 'for'], ['maybeks', 'chibuike', 'amaechi', 'trends', 'with', 'judas', 'iscariot', 'on', 'goodfriday', 'on', 'twitter', 'what', 'a', 'better', 'way', 'to', 'tell', 'the', 'amaechi', 'betrayal', 'story'], ['artlawz', 'bbnajia', 'go', 'and', 'get', 'a'], ['tdplus', 'efemoney', 'yes'], ['ajiehf', 'bbnaija', 'where', 'is', 'the', 'mosquito', 'talking', 'cant', 'find'], ['janevics', 'realtboss', 'thanks'], ['nosacyrilberge', 'bbnajia', 'of', 'what', 'we', 'dey', 'drag', 'husband', 'my', 'oga', 'no', 'like', 'skinny'], ['ajiehf', 'bbnaija', 'look', 'at', 'your', 'tiny', 'mouth', 'if', 'i', 'siddon', 'on', 'top', 'of', 'you', 'you', 'go', 'vanish'], ['ajibolaola', 'she', 'never', 'got', 'millions', 'of', 'votes', 'got', 'there', 'by'], ['ajibolaola', 'bbnaija', 'hms', 'are', 'all', 'famous', 'yes', 'but', 'famous', 'for', 'what', 'some', 'famous', 'for', 'bn', 'real', 'amp', 'loyal', 'some', 'bn', 'liars', 'bitches'], ['ajibolaola', 'bbnaija', 'd', 'two', 'finalist', 'efe', 'and', 'bisola', 'started', 'out', 'as', 'friends', 'never', 'betrayed', 'or', 'lied', 'to', 'each', 'other', 'a', 'game', 'can', 'b', 'played'], ['queenairstar', 'bbnaija', 'ill', 'give', 'u', 'd', 'same', 'reply', 'u', 'gave', 'some', 'na', 'u', 'buy', 'me', 'phonenow', 'get', 'off', 'my', 'handleoh', 'accept', 'my', 'sympathy', 'on', 'd'], ['ajibolaola', 'bbnaija', 'hes', 'also', 'a', 'jealous', 'god', 'and', 'a', 'god', 'of', 'judgement', 'but', 'plz', 'do', 'not', 'use', 'gods', 'name', 'in', 'vain', 'na', 'bbnaija', 'my', 'hand', 'no'], ['kklordy', 'janzenweyi', 'been', 'quite', 'a', 'while', 'sir', 'hope', 'youre', 'doing', 'good', 'my', 'warmest'], ['chimamanda'], ['bbnaija', 'you', 'just', 'have', 'to', 'love', 'bisola', 'the', 'way', 'she', 'dissed', 'ttt', 'epic', 'imagine', 'the', 'nerve', 'dem', 'no', 'dey', 'tell', 'blind', 'man', 'say', 'rain', 'dey'], ['tweetoracle', 'i', 'love', 'the', 'way', 'you', 'deliberately', 'ignored', 'mentioning', 'the', 'other', 'one', 'you', 'rock', 'youre', 'the', 'masses', 'super', 'celebrity', 'na', 'u', 'we'], ['princessofthor', 'efemoney', 'tweetoracle', 'bbnaija', 'efe', 'u', 'nid', 'get', 'in', 'touch', 'asap', 'with', 'tweetoracle', 'he', 'should', 'be', 'ur', 'buddy', 'amp', 'pa', 'dont', 'b'], ['princessofthor', 'efemoney', 'tweetoracle', 'its', 'easy', 'get', 'carried', 'away', 'with', 'd', 'fame', 'amp', 'fake', 'new', 'friends', 'coming', 'onboard', 'i', 'hop', 'efe', 'knows', 'hz'], ['princessofthor', 'efemoney', 'tweetoracle'], ['agbomma', 'lady', 'youre', 'bad', 'you', 'gat'], ['agbomma', 'sheangelbabyofficialtboss', 'i', 'will', 'advice', 'herdisassociate', 'herself', 'from', 'd', 'likes', 'of', 'u', 'sycophantsso', 'she', 'can', 'grow', 'in'], ['imolitegirl', 'the', 'only', 'two', 'people', 'im', 'gonna', 'be', 'eager', 'to', 'hear', 'their', 'news', 'from', 'bbnaija', 'are', 'efemega', 'money', 'and', 'bisolasmart'], ['chimamanda', 'you', 'see', 'you', 'just', 'stroke', 'me', 'heavily', 'i', 'tell', 'you', 'say', 'i', 'be'], ['bhaelo', 'donoti', 'bbnaija', 'wahala', 'on', 'ur', 'partu', 'look', 'depressed', 'amp', 'yet', 'youre', 'feeling', 'sorry', 'for', 'me', 'remove', 'the', 'log', 'of', 'wood', 'in', 'ur', 'eyes'], ['donoti', 'warriupdate', 'no', 'time', 'to', 'be'], ['chimamanda', 'but', 'i', 'still', 'dey', 'learn', 'for', 'where', 'you'], ['kemi', 'live', 'and'], ['kemi', 'abongju', 'well', 'said', 'ma', 'not', 'only', 'flee', 'run', 'kmsesp', 'tborebadluck', 'to', 'any', 'wey', 'get', 'close', 'hermoreova', 'she', 'hates', 'him', 'ehn'], ['chimamanda', 'kikikikikikikikiki'], ['chimamanda', 'woundjure', 'no', 'use', 'laugh', 'kill', 'me'], ['qutebella', 'na', 'so', 'how', 'we', 'go'], ['donoti', 'warriupdate', 'plz', 'dont', 'stop', 'its', 'the', 'essence', 'of'], ['anaijaman', 'right', 'back', 'at', 'you'], ['yomesusan', 'randiefame', 'yeah'], ['artlawz', 'bbnaija', 'go', 'and', 'hug', 'a', 'transformer', 'and', 'get', 'off', 'my'], ['stayhappykiss', 'tweetoracle'], ['pearlnwanna', 'uzomadaphey', 'yes'], ['randiefame', 'yomesusan', 'well', 'sweetheart', 'it', 'takes', 'two', 'to'], ['mandiesimza', 'marvisquad', 'we', 'rock', 'its', 'a', 'worthwhile', 'well', 'deserved'], ['keziamashaba', 'my', 'efenites', 'you', 'guys', 'are', 'the'], ['poshdiane', 'most', 'definitely', 'just', 'got', 'restricted', 'by', 'space'], ['dquemestree', 'what', 'can', 'we', 'do', 'were', 'street', 'we', 'gree', 'were', 'the', 'majority', 'we'], ['obuzyman', 'bbnaija', 'bassey', 'na', 'efe', 'number', 'biggest', 'enemyi', 'didnt', 'include', 'him', 'because', 'of', 'spacebt', 'ttt', 'hatred', 'for', 'efe', 'carry', 'feather'], ['yomesusan', 'bbnaija', 'we', 'just', 'like', 'marvis', 'based', 'on', 'say', 'efe', 'dey', 'trip', 'if', 'efe', 'show', 'small', 'uturn', 'na', 'bye', 'bye', 'i', 'get', 'dt', 'bt', 'bisola', 'is'], ['emuagbon', 'for', 'good', 'or', 'bad', 'we', 'don', 'throway', 'those', 'ones', 'since'], ['yomesusan', 'reasons', 'why'], ['bbnaija', 'efe', 'plz', 'neva', 'get', 'bisola', 'marvis', 'bally', 'amp', 'kemen', 'bt', 'wen', 'u', 'see', 'ttt', 'amp', 'tboss', 'rememba', 'd', 'bible', 'verse', 'flee', 'rm', 'all', 'appearance', 'of'], ['bbfinale', 'ttt', 'must', 'be', 'the', 'definition', 'right', 'now', 'of', 'all', 'liars', 'and', 'backbiters', 'shall', 'have', 'their', 'part', 'in', 'hell', 'and', 'dia', 'shall', 'be', 'gnashing', 'of'], ['adekunlegold', 'marvis', 'is', 'effortlessly'], ['imohdb', 'bro', 'you', 'can', 'never', 'satisfy', 'a', 'woman', 'god', 'gave', 'them', 'eyebrows', 'but', 'theyll', 'rather', 'clear', 'it', 'and', 'draw', 'it', 'with', 'a', 'pencil'], ['bbnaija', 'where', 'are', 'all', 'the', 'people', 'that', 'insulted', 'i', 'and', 'imolitegirl', 'chudichu', 'and', 'a', 'host', 'of', 'others', 'oya', 'come', 'jungle', 'don', 'mature'], ['bbnaija', 'you', 'know', 'when', 'youre', 'slapped', 'and', 'feel', 'd', 'effect', 'hours', 'later', 'na', 'now', 'my', 'own', 'craze', 'and', 'celebration', 'start', 'haiiiiiiiiii', 'we'], ['joodmilly', 'bbnaija', 'when', 'there', 'was', 'no', 'celebrity', 'for', 'efe', 'there', 'was', 'tweetoracle', 'who', 'supported', 'efemoney', 'from', 'the', 'very', 'beginning', 'u', 'sir'], ['missdimples', 'bbnaija', 'bbfinale', 'no', 'skin', 'color', 'is', 'superior', 'to', 'd', 'other', 'if', 'u', 'think', 'otherwise', 'u', 'are', 'shallow', 'no', 'matter', 'who', 'you', 'are'], ['richieakajiaku', 'bbnaija', 'memories', 'when', 'bisola', 'whispered', 'to', 'efe', 'while', 'he', 'was', 'tensed', 'on', 'stage', 'na', 'you', 'go', 'win', 'am', 'no', 'worry'], ['amchizzy', 'i', 'remember', 'miyonse', 'blabbing', 'dat', 'bbn', 'isnt', 'a', 'poverty', 'alleviation', 'show', 'that', 'was', 'anoda', 'reason', 'we', 'had', 'to', 'vote', 'efe', 'lik', 'mad', 'to'], ['xonickyy', 'what', 'is', 'more', 'painful', 'is', 'the', 'crowd', 'celebrating', 'tboss', 'exit'], ['misterchuckz', 'bbnaija', 'kemens', 'reaction', 'to', 'tboss', 'eviction'], ['omoiyaakeem', 'bisola', 'will', 'be', 'speaking', 'in', 'the', 'un', 'congress', 'she', 'is', 'not', 'a', 'graduate', 'are', 'you', 'still', 'looking', 'for', 'definition', 'of', 'gods'], ['asherstuta', 'before', 'we', 'rest', 'on', 'bbnaija', 'let', 'it', 'be', 'known', 'that', 'tboss', 'wasnt', 'hated', 'for', 'her', 'skin', 'color', 'or', 'background', 'she', 'was', 'disliked'], ['yeankeyazky', 'bbnaija', 'if', 'denrele', 'marries', 'uriel', 'their', 'child', 'will', 'be', 'original', 'see'], ['bbnaija', 'team', 'bisola', 'we', 'efenites', 'salute', 'una', 'we', 'respect', 'una', 'we', 'love', 'bisi', 'bt', 'love', 'efe', 'more', 'twale', 'u', 'bisola', 'youre', 'a', 'star', 'also'], ['agbomma', 'chudichu', 'auntyrops', 'tunjigod', 'ese', 'pwettyvavi', 'zhokiee', 'imolitegirl', 'bbnaija', 'team', 'bisola', 'we', 'salute', 'una', 'we', 'love', 'u'], ['agbomma', 'chudichu', 'auntyrops', 'tunjigod', 'ese', 'pwettyvavi', 'zhokiee', 'imolitegirl', 'bbnaija', 'needle', 'don', 'sew', 'their'], ['agbomma', 'abongju', 'chudichu', 'auntyrops', 'tunjigod', 'ese', 'pwettyvavi', 'zhokiee', 'imolitegirl', 'bbnaija', 'team', 'tboss', 'where'], ['agbomma', 'tunjigod', 'ese', 'abda', 'pwettyvavizhokiee', 'imolitegirl', 'chudichu', 'rita', 'baby', 'girl', 'we', 'made', 'it', 'right'], ['chudichu'], ['chudichu', 'auntyrops', 'tunjigod', 'ese', 'agbomma', 'pwettyvavi', 'zhokiee', 'imolitegirl', 'bbnaija', 'let', 'me', 'shout', 'now', 'we', 'did'], ['chudichu', 'auntyrops', 'tunjigod', 'ese', 'agbomma', 'pwettyvavi', 'zhokiee', 'imolitegirl', 'bbnaija', 'have', 'u', 'ever', 'been', 'so', 'happyu', 'jst', 'kip'], ['bbnaija', 'me', 'i', 'know', 'bn', 'know', 'say', 'efe', 'get', 'phd', 'for', 'galala', 'dance', 'like', 'that', 'as', 'a', 'waffi', 'blood', 'bred', 'in', 'jos', 'honed', 'in', 'lagos', 'na', 'only'], ['deusaa', 'efe', 'please', 'get', 'drunk', 'this', 'night', 'and', 'say', 'all', 'the', 'rubbish', 'in', 'your', 'mouth', 'we', 'cannot', 'take', 'our', 'votes', 'back', 'so', 'enjoy', 'yourself'], ['bbnaija', 'we', 'dnt', 'nid', 'paste', 'snapshots', 'to', 'prove', 'we', 'av', 'voted', 'massively', 'nit', 'wen', 'efe', 'us', 'declared', 'winner', 'wil', 'b', 'proof', 'beyond', 'reasonable'], ['chuksvila', 'gttboss', 'made', 'nigerians', 'dig', 'out', 'video', 'of', 'beyonce', 'otedola', 'and', 'daughter', 'singing', 'the', 'nigerian', 'national', 'anthem', 'video'], ['kyla', 'dey', 'left', 'uti', 'in', 'ija', 'so', 'he', 'can', 'continue', 'gossiping', 'and', 'fighting', 'on', 'twitter', 'amp', 'brought', 'karen', 'all', 'd', 'way', 'frm', 'new', 'yk'], ['bbnaija', 'finally', 'dday', 'hz', 'comeive', 'been', 'off', 'twitter', 'bcoz', 'afta', 'campaign', 'd', 'nxt', 'thing', 'na', 'intensive', 'lobbying', 'amp', 'voting', 'no', 'time', 'efe', 'd'], ['imolitegirl', 'the', 'celebrities', 'identifying', 'with', 'efe', 'is', 'a', 'plus', 'to', 'his', 'already', 'rising', 'fame', 'but', 'na', 'we', 'his', 'fans', 'go', 'finish', 'work', 'by', 'pushing'], ['dont', 'know', 'why', 'everybodys', 'judging', 'if', 'u', 'make', 'a', 'woman', 'feel', 'unsecured', 'she', 'runs', 'into', 'another', 'mans', 'arms', 'for', 'security', 'give', 'room'], ['what', 'do', 'u', 'do', 'wen', 'it', 'seems', 'lyk', 'd', 'whole', 'world', 'is', 'closing', 'in', 'on', 'u', 'wld', 'u', 'call', 'following', 'ur', 'heart', 'a', 'big', 'mistake', 'is', 'kindness', 'amp', 'love', 'a'], ['imolitegirl', 'chudichu', 'auntyrops', 'tunjigod', 'agbomma', 'pwettyvavi', 'zhokiee', 'bbnaija', 'babe', 'had', 'a', 'long', 'day', 'make', 'i', 'sleep', 'romania', 'must'], ['imolitegirl', 'chudichu', 'auntyrops', 'tunjigod', 'agbomma', 'chaiiii'], ['imolitegirl', 'chudichu', 'auntyrops', 'tunjigod', 'agbomma', 'pwettyvavi', 'zhokiee', 'bbnaija', 'chaiiiii', 'miss', 'oh', 'i', 'tell', 'una', 'say', 'she', 'no', 'b'], ['chudichu', 'imolitegirl', 'auntyrops', 'tunjigod', 'agbomma', 'abeg', 'how', 'ee', 'take'], ['imolitegirl', 'chudichu', 'auntyrops', 'tunjigod', 'agbomma', 'pwettyvavi', 'zhokiee', 'bbnaija', 'no', 'wahala', 'wetin', 'do', 'tbusu', 'amp'], ['imolitegirl', 'chudichu', 'auntyrops', 'tunjigod', 'agbomma', 'pwettyvavi', 'zhokiee', 'bbnaija', 'i', 'dey', 'do', 'my', 'voting', 'duty', 'kampe', 'na', 'tv', 'i', 'no'], ['imolitegirl', 'chudichu', 'auntyrops', 'tunjigod', 'agbomma', 'pwettyvavi', 'zhokiee', 'bbnaija', 'the', 'wahala', 'no', 'reach', 'voting', 'why', 'u', 'no', 'answer', 'my'], ['tunjigod', 'ese', 'agbomma', 'pwettyvavi', 'zhokiee', 'imolitegirl', 'chudichu', 'bbnaija', 'abeg', 'my', 'wk', 'hz', 'bn', 'tense', 'wetin', 'tboss', 'do'], ['chudichu', 'auntyrops', 'tunjigod', 'agbomma', 'pwettyvavi', 'zhokiee', 'imolitegirl', 'bbnaija', 'chudi', 'abeg', 'wahala', 'full', 'my', 'head', 'dz', 'wk', 'tboss', 'do'], ['petersonroy', 'dont', 'bring', 'gender', 'into', 'this', 'so', 'you', 'dont', 'discourage', 'efes', 'female', 'fans', 'we', 'the', 'womengirls', 'are', 'solidly', 'behind'], ['suncity', 'they', 'are', 'not', 'truthful'], ['tweetoracle'], ['dmaxidon', 'kuyoromayowa', 'obiagucomedy', 'youre'], ['cesecimi', 'babe', 'somehow', 'we', 'all', 'knew', 'and', 'we', 'fearedpainful']]]"
      ]
     },
     "execution_count": 219,
     "metadata": {},
     "output_type": "execute_result"
    }
   ],
   "source": [
    "documents"
   ]
  },
  {
   "cell_type": "code",
   "execution_count": 5,
   "metadata": {
    "collapsed": true
   },
   "outputs": [],
   "source": [
    "from sklearn.feature_extraction.text import CountVectorizer\n",
    "from sklearn.pipeline import FeatureUnion\n",
    "\n",
    "documents = create_instances_and_labels(train)\n",
    "    \n",
    "word_ngram_vectorizer = CountVectorizer(ngram_range=(1, 2))\n",
    "char_ngram_vectorizer = CountVectorizer(analyzer='char_wb', ngram_range=(2, 2))\n",
    "\n",
    "X_word_ngrams = word_ngram_vectorizer.fit_transform(documents)\n",
    "X_char_ngrams = char_ngram_vectorizer.fit_transform(documents)\n",
    "\n",
    "#combined_features = FeatureUnion([('CountVectorizer1', X_word_ngrams),('CountVectorizer2', X_char_ngrams)])\n"
   ]
  },
  {
   "cell_type": "code",
   "execution_count": 199,
   "metadata": {},
   "outputs": [
    {
     "data": {
      "text/plain": [
       "<1x565 sparse matrix of type '<type 'numpy.int64'>'\n",
       "\twith 565 stored elements in Compressed Sparse Row format>"
      ]
     },
     "execution_count": 199,
     "metadata": {},
     "output_type": "execute_result"
    }
   ],
   "source": [
    "X_char_ngrams"
   ]
  },
  {
   "cell_type": "code",
   "execution_count": 203,
   "metadata": {},
   "outputs": [
    {
     "ename": "NameError",
     "evalue": "name 'words_and_char_bigrams' is not defined",
     "output_type": "error",
     "traceback": [
      "\u001b[1;31m---------------------------------------------------------------------------\u001b[0m",
      "\u001b[1;31mNameError\u001b[0m                                 Traceback (most recent call last)",
      "\u001b[1;32m<ipython-input-203-017a19da205c>\u001b[0m in \u001b[0;36m<module>\u001b[1;34m()\u001b[0m\n\u001b[1;32m----> 1\u001b[1;33m \u001b[0mword_ngram_vectorizer\u001b[0m \u001b[1;33m=\u001b[0m \u001b[0mCountVectorizer\u001b[0m\u001b[1;33m(\u001b[0m\u001b[0mngram_range\u001b[0m\u001b[1;33m=\u001b[0m\u001b[1;33m(\u001b[0m\u001b[1;36m1\u001b[0m\u001b[1;33m,\u001b[0m \u001b[1;36m2\u001b[0m\u001b[1;33m)\u001b[0m\u001b[1;33m,\u001b[0m \u001b[0manalyzer\u001b[0m\u001b[1;33m=\u001b[0m\u001b[0mwords_and_char_bigrams\u001b[0m\u001b[1;33m)\u001b[0m\u001b[1;33m\u001b[0m\u001b[0m\n\u001b[0m",
      "\u001b[1;31mNameError\u001b[0m: name 'words_and_char_bigrams' is not defined"
     ]
    }
   ],
   "source": [
    "word_ngram_vectorizer = CountVectorizer(ngram_range=(1, 2), analyzer=words_and_char_bigrams)\n"
   ]
  },
  {
   "cell_type": "code",
   "execution_count": 6,
   "metadata": {},
   "outputs": [
    {
     "name": "stdout",
     "output_type": "stream",
     "text": [
      "(2, 24)\n",
      "{'ac': 0,\n",
      " 'ar': 1,\n",
      " 'are': 2,\n",
      " 'ba': 3,\n",
      " 'bar': 4,\n",
      " 'bl': 5,\n",
      " 'bla': 6,\n",
      " 'black': 7,\n",
      " 'ee': 8,\n",
      " 'fo': 9,\n",
      " 'foo': 10,\n",
      " 'he': 11,\n",
      " 'hee': 12,\n",
      " 'hi': 13,\n",
      " 'la': 14,\n",
      " 'lac': 15,\n",
      " 'sh': 16,\n",
      " 'she': 17,\n",
      " 'sheep': 18,\n",
      " 'th': 19,\n",
      " 'thi': 20,\n",
      " 'this': 21,\n",
      " 'yo': 22,\n",
      " 'you': 23}\n"
     ]
    }
   ],
   "source": [
    "# https://stackoverflow.com/questions/21600196/how-do-i-use-sklearn-countvectorizer-with-both-word-and-char-analyzer-pyt\n",
    "\n",
    "from pprint import pprint\n",
    "import re\n",
    "\n",
    "x = ['this is a foo bar', 'you are a foo bar black sheep']\n",
    "\n",
    "documents = create_instances_and_labels(train)\n",
    "\n",
    "def words_and_char_bigrams(text):\n",
    "    words = re.findall(r'\\w{3,}', text)\n",
    "    for w in words:\n",
    "        yield w\n",
    "        for i in range(len(w) - 2):\n",
    "            yield w[i:i+2]\n",
    "            \n",
    "def words_and_char_ngrams(text):\n",
    "    words = re.findall(r'\\w{3,}', text)  # {3,} \"3 OR MORE\"\n",
    "    for w in words:\n",
    "        numgrams = 3\n",
    "        yield w\n",
    "        while numgrams > 1:\n",
    "            for i in range(len(w) - numgrams):\n",
    "                yield w[i:i+numgrams]\n",
    "            numgrams -= 1\n",
    "            \n",
    "           \n",
    "v = CountVectorizer(analyzer=words_and_char_ngrams, ngram_range=(2,1))\n",
    "features = v.fit(x)\n",
    "bag = features.transform(x)\n",
    "\n",
    "print bag.shape\n",
    "pprint(features.vocabulary_)"
   ]
  },
  {
   "cell_type": "code",
   "execution_count": 280,
   "metadata": {
    "collapsed": true
   },
   "outputs": [],
   "source": [
    "# access users' descriptions\n",
    "\n",
    "import tweepy\n",
    "import json\n",
    "from tweepy import OAuthHandler\n",
    "from ACCESS_TOKENS_DONTSHARE import *   # To get twitter api authentication creds\n",
    "\n",
    "        \n",
    "CONSUMER_KEY = get_consumer_key()\n",
    "CONSUMER_SECRET = get_consumer_secret()\n",
    "ACCESS_KEY = get_access_token()\n",
    "ACCESS_SECRET = get_access_secret()\n",
    "\n",
    "auth = OAuthHandler(CONSUMER_KEY,CONSUMER_SECRET)\n",
    "api = tweepy.API(auth)\n",
    "auth.set_access_token(ACCESS_KEY, ACCESS_SECRET)\n",
    "\n",
    "#search\n",
    "api = tweepy.API(auth)"
   ]
  },
  {
   "cell_type": "code",
   "execution_count": 282,
   "metadata": {
    "collapsed": true
   },
   "outputs": [],
   "source": []
  },
  {
   "cell_type": "code",
   "execution_count": 281,
   "metadata": {
    "collapsed": true
   },
   "outputs": [],
   "source": []
  }
 ],
 "metadata": {
  "kernelspec": {
   "display_name": "Python 2",
   "language": "python",
   "name": "python2"
  },
  "language_info": {
   "codemirror_mode": {
    "name": "ipython",
    "version": 2
   },
   "file_extension": ".py",
   "mimetype": "text/x-python",
   "name": "python",
   "nbconvert_exporter": "python",
   "pygments_lexer": "ipython2",
   "version": "2.7.14"
  }
 },
 "nbformat": 4,
 "nbformat_minor": 2
}
