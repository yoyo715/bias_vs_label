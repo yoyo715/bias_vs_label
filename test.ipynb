{
 "cells": [
  {
   "cell_type": "code",
   "execution_count": 43,
   "metadata": {
    "collapsed": true
   },
   "outputs": [],
   "source": [
    "import pandas as pd\n",
    "import numpy as np\n",
    "import numexpr as ne"
   ]
  },
  {
   "cell_type": "code",
   "execution_count": 63,
   "metadata": {},
   "outputs": [
    {
     "name": "stdout",
     "output_type": "stream",
     "text": [
      "(2L, 4L)\n",
      "(4L, 2L)\n",
      "[[ 0.4  0.7  0.7  0.2]\n",
      " [ 0.6  0.3  0.3  0.8]]\n",
      "[[0 0 0 1]\n",
      " [1 1 1 0]]\n"
     ]
    }
   ],
   "source": [
    "predicted = np.matrix([[0.4, 0.7, 0.7, 0.2], [0.6, 0.3, 0.3, 0.8]])\n",
    "\n",
    "true = np.matrix([[0, 1], [0, 1], [0, 1], [1,0]])\n",
    "\n",
    "print predicted.shape\n",
    "print true.shape\n",
    "\n",
    "print predicted\n",
    "print true.T"
   ]
  },
  {
   "cell_type": "code",
   "execution_count": 75,
   "metadata": {},
   "outputs": [
    {
     "name": "stdout",
     "output_type": "stream",
     "text": [
      "[[1 0 0 1]]\n",
      "[[1 1 1 0]]\n",
      "(1L, 4L)\n"
     ]
    }
   ],
   "source": [
    "predicted_max = np.argmax(predicted, axis = 0)\n",
    "\n",
    "true_max = np.argmax(true, axis = 1)\n",
    "\n",
    "print predicted_max\n",
    "print true_max.T\n",
    "\n",
    "print predicted_max.shape"
   ]
  },
  {
   "cell_type": "code",
   "execution_count": 65,
   "metadata": {},
   "outputs": [
    {
     "name": "stdout",
     "output_type": "stream",
     "text": [
      "[[1]]\n"
     ]
    }
   ],
   "source": [
    "N = true_max.shape[0]\n",
    "number_true = np.dot(predicted_max, true_max)\n",
    "\n",
    "print number_true"
   ]
  },
  {
   "cell_type": "code",
   "execution_count": 66,
   "metadata": {},
   "outputs": [
    {
     "name": "stdout",
     "output_type": "stream",
     "text": [
      "4\n",
      "[[ 0.25]]\n"
     ]
    }
   ],
   "source": [
    "print N\n",
    "\n",
    "print number_true * 1.0/N"
   ]
  },
  {
   "cell_type": "code",
   "execution_count": 67,
   "metadata": {},
   "outputs": [
    {
     "data": {
      "text/plain": [
       "array([[0, 0, 0, 0],\n",
       "       [0, 0, 0, 0],\n",
       "       [0, 0, 0, 0],\n",
       "       [0, 1, 1, 0]])"
      ]
     },
     "execution_count": 67,
     "metadata": {},
     "output_type": "execute_result"
    }
   ],
   "source": [
    "ne.evaluate('(true_max == 0) & (predicted_max == 0)').astype(int)"
   ]
  },
  {
   "cell_type": "code",
   "execution_count": 74,
   "metadata": {},
   "outputs": [
    {
     "name": "stdout",
     "output_type": "stream",
     "text": [
      "(0.75, 0.25)\n"
     ]
    }
   ],
   "source": [
    "\n",
    "class_acc = np.sum(np.all(true_max.T == predicted_max, axis = 0)) * 1.0 / N\n",
    "class_err = np.sum(np.all(true_max.T != predicted_max, axis = 0)) * 1.0 / N\n",
    "\n",
    "np.sum(np.all((true_max.T == 0) & (predicted_max == 0), axis = 0)) \n",
    "\n",
    "np.sum(np.all((true_max.T == 1) & (predicted_max == 0), axis = 0)) \n",
    "\n",
    "np.sum(np.all((true_max.T == 1) & (predicted_max == 0), axis = 0)) \n",
    "\n",
    "print(class_err, class_acc)"
   ]
  },
  {
   "cell_type": "code",
   "execution_count": null,
   "metadata": {
    "collapsed": true
   },
   "outputs": [],
   "source": []
  }
 ],
 "metadata": {
  "kernelspec": {
   "display_name": "Python 2",
   "language": "python",
   "name": "python2"
  },
  "language_info": {
   "codemirror_mode": {
    "name": "ipython",
    "version": 2
   },
   "file_extension": ".py",
   "mimetype": "text/x-python",
   "name": "python",
   "nbconvert_exporter": "python",
   "pygments_lexer": "ipython2",
   "version": "2.7.14"
  }
 },
 "nbformat": 4,
 "nbformat_minor": 2
}
