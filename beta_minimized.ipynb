{
 "cells": [
  {
   "cell_type": "code",
   "execution_count": 18,
   "metadata": {},
   "outputs": [],
   "source": [
    "import numpy as np\n",
    "from scipy.optimize import minimize\n",
    "from dictionary3 import Dictionary"
   ]
  },
  {
   "cell_type": "code",
   "execution_count": 19,
   "metadata": {},
   "outputs": [
    {
     "ename": "FileNotFoundError",
     "evalue": "[Errno 2] No such file or directory: '../../simple-queries/data/query_gender.train'",
     "output_type": "error",
     "traceback": [
      "\u001b[0;31m---------------------------------------------------------------------------\u001b[0m",
      "\u001b[0;31mFileNotFoundError\u001b[0m                         Traceback (most recent call last)",
      "\u001b[0;32m<ipython-input-19-1bfc7599ab32>\u001b[0m in \u001b[0;36m<module>\u001b[0;34m()\u001b[0m\n\u001b[1;32m      3\u001b[0m \u001b[0mBUCKET\u001b[0m\u001b[0;34m=\u001b[0m\u001b[0;36m1000000\u001b[0m\u001b[0;34m\u001b[0m\u001b[0m\n\u001b[1;32m      4\u001b[0m \u001b[0;34m\u001b[0m\u001b[0m\n\u001b[0;32m----> 5\u001b[0;31m \u001b[0mdictionary\u001b[0m \u001b[0;34m=\u001b[0m \u001b[0mDictionary\u001b[0m\u001b[0;34m(\u001b[0m\u001b[0mWORDGRAMS\u001b[0m\u001b[0;34m,\u001b[0m \u001b[0mMINCOUNT\u001b[0m\u001b[0;34m,\u001b[0m \u001b[0mBUCKET\u001b[0m\u001b[0;34m)\u001b[0m\u001b[0;34m\u001b[0m\u001b[0m\n\u001b[0m",
      "\u001b[0;32m~/Desktop/bias_vs_labelefficiency/dictionary3.py\u001b[0m in \u001b[0;36m__init__\u001b[0;34m(self, ngrams, mincount, bucket)\u001b[0m\n\u001b[1;32m     22\u001b[0m \u001b[0;34m\u001b[0m\u001b[0m\n\u001b[1;32m     23\u001b[0m         \u001b[0mself\u001b[0m\u001b[0;34m.\u001b[0m\u001b[0mfile_train\u001b[0m \u001b[0;34m=\u001b[0m \u001b[0mopen\u001b[0m\u001b[0;34m(\u001b[0m\u001b[0;34m'/home/mcooley/Desktop/data/query_gender.train'\u001b[0m\u001b[0;34m,\u001b[0m \u001b[0mencoding\u001b[0m\u001b[0;34m=\u001b[0m\u001b[0;34m'utf8'\u001b[0m\u001b[0;34m)\u001b[0m\u001b[0;34m.\u001b[0m\u001b[0mreadlines\u001b[0m\u001b[0;34m(\u001b[0m\u001b[0;34m)\u001b[0m\u001b[0;34m\u001b[0m\u001b[0m\n\u001b[0;32m---> 24\u001b[0;31m         \u001b[0;31m#self.file_train = open('../../simple-queries/data/query_gender.train', encoding='utf8').readlines() # home desk comp\u001b[0m\u001b[0;34m\u001b[0m\u001b[0;34m\u001b[0m\u001b[0m\n\u001b[0m\u001b[1;32m     25\u001b[0m         \u001b[0;32mdel\u001b[0m \u001b[0mself\u001b[0m\u001b[0;34m.\u001b[0m\u001b[0mfile_train\u001b[0m\u001b[0;34m[\u001b[0m\u001b[0;36m0\u001b[0m\u001b[0;34m]\u001b[0m\u001b[0;34m\u001b[0m\u001b[0m\n\u001b[1;32m     26\u001b[0m \u001b[0;34m\u001b[0m\u001b[0m\n",
      "\u001b[0;31mFileNotFoundError\u001b[0m: [Errno 2] No such file or directory: '../../simple-queries/data/query_gender.train'"
     ]
    }
   ],
   "source": [
    "WORDGRAMS=3\n",
    "MINCOUNT=2\n",
    "BUCKET=1000000\n",
    "\n",
    "dictionary = Dictionary(WORDGRAMS, MINCOUNT, BUCKET)"
   ]
  },
  {
   "cell_type": "code",
   "execution_count": 80,
   "metadata": {
    "collapsed": true
   },
   "outputs": [],
   "source": [
    "def objective(beta):\n",
    "    K = np.random.rand(n_tr, n_tr)\n",
    "    k = np.random.rand(n_tr)\n",
    "    return 0.5*np.subtract(np.dot(np.dot(beta.T, K), beta), np.dot(k.T, beta))"
   ]
  },
  {
   "cell_type": "code",
   "execution_count": 83,
   "metadata": {
    "collapsed": true
   },
   "outputs": [],
   "source": [
    "def constraint1(beta):\n",
    "    return beta\n",
    "\n",
    "def constraint2(beta):\n",
    "    B = 5\n",
    "    return B - beta\n",
    "\n",
    "def constraint3(beta):\n",
    "    epsilon = 1e-7\n",
    "    n_tr = 5\n",
    "    return np.subtract(beta, n_tr*(1-epsilon))\n",
    "    #return beta - n_tr*(1-epsilon)\n",
    "\n",
    "def constraint4(beta):\n",
    "    epsilon = 1e-7\n",
    "    n_tr = 5\n",
    "    return np.subtract(n_tr*(epsilon - 1), beta)\n",
    "    #return n_tr*(epsilon - 1) - beta"
   ]
  },
  {
   "cell_type": "code",
   "execution_count": 70,
   "metadata": {},
   "outputs": [
    {
     "data": {
      "text/plain": [
       "0.8784181533025671"
      ]
     },
     "execution_count": 70,
     "metadata": {},
     "output_type": "execute_result"
    }
   ],
   "source": [
    "n_tr = 5\n",
    "\n",
    "beta0 = np.random.rand(n_tr)\n",
    "\n",
    "objective(beta0, K0, k0)"
   ]
  },
  {
   "cell_type": "code",
   "execution_count": 77,
   "metadata": {},
   "outputs": [],
   "source": [
    "b = (0.0, B)\n",
    "bounds = (b,b,b,b,b)\n",
    "\n",
    "\n",
    "con1 = {'type': 'ineq', 'fun': constraint1}\n",
    "con2 = {'type': 'ineq', 'fun': constraint2}\n",
    "con3 = {'type': 'ineq', 'fun': constraint3}\n",
    "con4 = {'type': 'ineq', 'fun': constraint4}\n",
    "\n",
    "cons = [con1, con2, con3, con4]"
   ]
  },
  {
   "cell_type": "code",
   "execution_count": 85,
   "metadata": {},
   "outputs": [
    {
     "name": "stdout",
     "output_type": "stream",
     "text": [
      "[0.77916452 0.60176153 0.21746085 0.86085474 0.04553955]\n"
     ]
    }
   ],
   "source": [
    "sol = minimize(objective, beta0, method='SLSQP',\n",
    "               bounds = bounds, constraints = cons)\n",
    "\n",
    "print sol.x"
   ]
  }
 ],
 "metadata": {
  "kernelspec": {
   "display_name": "Python 3",
   "language": "python",
   "name": "python3"
  },
  "language_info": {
   "codemirror_mode": {
    "name": "ipython",
    "version": 3
   },
   "file_extension": ".py",
   "mimetype": "text/x-python",
   "name": "python",
   "nbconvert_exporter": "python",
   "pygments_lexer": "ipython3",
   "version": "3.6.5"
  }
 },
 "nbformat": 4,
 "nbformat_minor": 2
}
